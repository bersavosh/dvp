{
 "cells": [
  {
   "cell_type": "markdown",
   "id": "20bd37f8-921f-4982-b184-7f476c36e1db",
   "metadata": {},
   "source": [
    "# Seaborn workbook"
   ]
  },
  {
   "cell_type": "code",
   "execution_count": null,
   "id": "60749256-5d87-4755-ac66-09b86636fee3",
   "metadata": {},
   "outputs": [],
   "source": [
    "import numpy as np\n",
    "import pandas as pd\n",
    "import seaborn as sns\n",
    "\n",
    "sns.set_theme('talk','darkgrid',palette='muted',font='serif')"
   ]
  },
  {
   "cell_type": "markdown",
   "id": "3148fbf1-44c6-4ad9-9ddc-668c814d93f5",
   "metadata": {},
   "source": [
    "## Data\n",
    "\n",
    "We will use the same mortgage data we practiced with in the pandas tutorials."
   ]
  },
  {
   "cell_type": "code",
   "execution_count": null,
   "id": "b64d6f1d-a607-4f4b-a6c8-80ff23c6e273",
   "metadata": {},
   "outputs": [],
   "source": [
    "data = pd.read_csv('../data/loan_data_subset.csv')\n",
    "data.head()"
   ]
  },
  {
   "cell_type": "markdown",
   "id": "b77deccf-f450-46ec-8bf2-db7ef8c57b83",
   "metadata": {},
   "source": [
    "## How many type of loans are there in this dataset? which one is most requested? \n",
    "\n",
    "(barchart)"
   ]
  },
  {
   "cell_type": "code",
   "execution_count": null,
   "id": "96f11f43-6863-408f-a983-87e00e23b1d1",
   "metadata": {},
   "outputs": [],
   "source": []
  },
  {
   "cell_type": "markdown",
   "id": "e94a85f0-5421-4078-a1a8-a101b3980cd1",
   "metadata": {},
   "source": [
    "### Applying sorting to the bar chart\n",
    "\n",
    "You can use pandas' inherent functions to pass an `order` to seaborn"
   ]
  },
  {
   "cell_type": "code",
   "execution_count": null,
   "id": "615ecd3f-e5dd-4fc3-8317-f54218c12141",
   "metadata": {},
   "outputs": [],
   "source": []
  },
  {
   "cell_type": "markdown",
   "id": "247e0be1-2b46-48e5-9f43-24dde2476607",
   "metadata": {},
   "source": [
    "### Renaming axis labels\n",
    "\n",
    "The y-axis label can be put more elegantly. You can do this in one of two ways:\n",
    "\n",
    "#### Using the matplotlib `axes` level interface available beneath the Seaborn figure object:"
   ]
  },
  {
   "cell_type": "code",
   "execution_count": null,
   "id": "24189747-00c2-4927-86f4-af39fa1c14d3",
   "metadata": {},
   "outputs": [],
   "source": []
  },
  {
   "cell_type": "markdown",
   "id": "bbab6d16-da85-4081-8e4c-68cda484f614",
   "metadata": {},
   "source": [
    "#### Editing the dataframe column directly:"
   ]
  },
  {
   "cell_type": "code",
   "execution_count": null,
   "id": "f01c9613-acb0-4586-a602-c12a3d129e38",
   "metadata": {},
   "outputs": [],
   "source": [
    "data.rename(columns={'loan_purpose_name':'Loan Purpose'}, inplace=True)"
   ]
  },
  {
   "cell_type": "code",
   "execution_count": null,
   "id": "03a0b230-9666-416f-8f07-07c462163fdd",
   "metadata": {},
   "outputs": [],
   "source": []
  },
  {
   "cell_type": "markdown",
   "id": "acee00a1-b07a-4dac-850f-abd7ee28ef0f",
   "metadata": {},
   "source": [
    "## There are multiple loan agencies (`agency_abbr`). Is any of them particularly getting more requests from low/high income applicants? or for a specific type of loan?\n",
    "\n",
    "Let's first make a bar chart of agency and median income of applicants:"
   ]
  },
  {
   "cell_type": "code",
   "execution_count": null,
   "id": "093391ed-6428-42ca-b8e8-8a062e7f6419",
   "metadata": {},
   "outputs": [],
   "source": []
  },
  {
   "cell_type": "markdown",
   "id": "18cdfdbd-6578-467f-9505-4138af7a94b9",
   "metadata": {},
   "source": [
    "Again, for sorting we rely on pandas' internal functions:"
   ]
  },
  {
   "cell_type": "code",
   "execution_count": null,
   "id": "512b5616-a6b0-4445-a091-f1b580fb3a96",
   "metadata": {},
   "outputs": [],
   "source": []
  },
  {
   "cell_type": "markdown",
   "id": "e4819b26-0039-47d8-93ee-cdf38a640769",
   "metadata": {},
   "source": [
    "#### Now let's make a bar chart categorizing with both agency and loan type"
   ]
  },
  {
   "cell_type": "code",
   "execution_count": null,
   "id": "004f0be3-8afb-4301-ae5b-7c435b7c203d",
   "metadata": {},
   "outputs": [],
   "source": []
  },
  {
   "cell_type": "markdown",
   "id": "13522fcc-4af3-4b39-958f-4c348151e3af",
   "metadata": {},
   "source": [
    "## distribution of loan amount as a boxplot function, categorized by agency and loan type"
   ]
  },
  {
   "cell_type": "code",
   "execution_count": null,
   "id": "2fadab49-daeb-40c2-92c2-e127c3e1405b",
   "metadata": {},
   "outputs": [],
   "source": []
  },
  {
   "cell_type": "markdown",
   "id": "d8537f23-180c-404c-9eec-06bea0927112",
   "metadata": {},
   "source": [
    "The outliers are strong with this one!"
   ]
  },
  {
   "cell_type": "code",
   "execution_count": null,
   "id": "536b54ab-71f7-4cd5-98ad-be5126ab68c2",
   "metadata": {},
   "outputs": [],
   "source": []
  },
  {
   "cell_type": "markdown",
   "id": "09b26b88-4658-4aab-a108-ed2429248672",
   "metadata": {},
   "source": [
    "## How are the loan amounts distributed per type of loan?\n",
    "\n",
    "Let's first look at median"
   ]
  },
  {
   "cell_type": "code",
   "execution_count": null,
   "id": "ee99ab3c-559a-4ed4-8853-993b7cd9da92",
   "metadata": {},
   "outputs": [],
   "source": []
  },
  {
   "cell_type": "markdown",
   "id": "772eb776-07ce-419a-873d-6e59b4f5c0f5",
   "metadata": {},
   "source": [
    "How are they distributed?"
   ]
  },
  {
   "cell_type": "code",
   "execution_count": null,
   "id": "bae09224-9828-4f78-9ccf-99d0fa463872",
   "metadata": {},
   "outputs": [],
   "source": []
  },
  {
   "cell_type": "markdown",
   "id": "84afd688-3bad-4c85-934f-415740778252",
   "metadata": {},
   "source": [
    "Let's do this in log-scale based on log of the data"
   ]
  },
  {
   "cell_type": "code",
   "execution_count": null,
   "id": "8a2a0eec-7658-404e-8ac2-9d7240288294",
   "metadata": {},
   "outputs": [],
   "source": [
    "data['log_loan_amount_000s'] = np.log10(data['loan_amount_000s'])"
   ]
  },
  {
   "cell_type": "code",
   "execution_count": null,
   "id": "c1c25a35-8e8b-40dc-9141-0635b3c15308",
   "metadata": {},
   "outputs": [],
   "source": []
  },
  {
   "cell_type": "markdown",
   "id": "84c6e1b5-b40e-4101-9ba6-5dc969ad7ffb",
   "metadata": {},
   "source": [
    "### let's visualize that with a swarm plot\n",
    "*a.k.a. remember `geom_jitter` in `ggplot`? (lecture 2 by Suman)*"
   ]
  },
  {
   "cell_type": "code",
   "execution_count": null,
   "id": "ddba0bdc-34d0-4ec4-95ca-8363e7421424",
   "metadata": {},
   "outputs": [],
   "source": []
  },
  {
   "cell_type": "markdown",
   "id": "149f8d15-182e-4e46-8a69-0d3ef9883437",
   "metadata": {},
   "source": [
    "### Histogram"
   ]
  },
  {
   "cell_type": "code",
   "execution_count": null,
   "id": "2c478147-956a-4044-89cf-fc08e3625991",
   "metadata": {},
   "outputs": [],
   "source": []
  },
  {
   "cell_type": "markdown",
   "id": "c01f87ca-42c5-4ed8-bde7-61082ee6ed60",
   "metadata": {},
   "source": [
    "### Stacked histogram"
   ]
  },
  {
   "cell_type": "code",
   "execution_count": null,
   "id": "8e533a84-3024-4334-b623-f143b531ba30",
   "metadata": {},
   "outputs": [],
   "source": []
  },
  {
   "cell_type": "markdown",
   "id": "0ae3205b-f10a-4ebb-8ec7-9287bb4c3022",
   "metadata": {},
   "source": [
    "## ECDF"
   ]
  },
  {
   "cell_type": "code",
   "execution_count": null,
   "id": "d01cd75a-23cf-498f-8479-fcd96c523e7e",
   "metadata": {},
   "outputs": [],
   "source": []
  },
  {
   "cell_type": "markdown",
   "id": "9951ff9e-685b-4b17-aecb-e3436d3d04fa",
   "metadata": {},
   "source": [
    "### KDE"
   ]
  },
  {
   "cell_type": "code",
   "execution_count": null,
   "id": "fdf30a72-9ff5-45b0-82f0-3a12c3d42d7a",
   "metadata": {},
   "outputs": [],
   "source": []
  },
  {
   "cell_type": "markdown",
   "id": "15c32615-48e4-416a-84bb-d44a09a6d368",
   "metadata": {},
   "source": [
    "`fill` parameter is automatically set based on data, but you can force it:"
   ]
  },
  {
   "cell_type": "code",
   "execution_count": null,
   "id": "2329b75e-2789-4dbf-bcdb-f4db3c1773c5",
   "metadata": {},
   "outputs": [],
   "source": []
  },
  {
   "cell_type": "markdown",
   "id": "b576b1cc-fe34-4081-b3c8-206937381341",
   "metadata": {},
   "source": [
    "## Is there any (visual) correlation between loan amount and income?"
   ]
  },
  {
   "cell_type": "code",
   "execution_count": null,
   "id": "04d2fdff-6688-4bc4-9b4c-b99dd7efbd2b",
   "metadata": {},
   "outputs": [],
   "source": []
  },
  {
   "cell_type": "markdown",
   "id": "6cadb2a1-4dc6-4081-8b8c-2be30b8e5ff1",
   "metadata": {},
   "source": [
    "We can also make use of `jointplot`:"
   ]
  },
  {
   "cell_type": "code",
   "execution_count": null,
   "id": "c15fa3c9-c90d-40bf-b62c-761322239ba4",
   "metadata": {},
   "outputs": [],
   "source": [
    "g = sns.jointplot(data,x='loan_amount_000s',y='applicant_income_000s',hue='Loan Purpose',height=9,ratio=8)\n",
    "g.ax_joint.set_xscale('log')\n",
    "g.ax_joint.set_yscale('log')"
   ]
  }
 ],
 "metadata": {
  "kernelspec": {
   "display_name": "bayes",
   "language": "python",
   "name": "bayes"
  },
  "language_info": {
   "codemirror_mode": {
    "name": "ipython",
    "version": 3
   },
   "file_extension": ".py",
   "mimetype": "text/x-python",
   "name": "python",
   "nbconvert_exporter": "python",
   "pygments_lexer": "ipython3",
   "version": "3.10.5"
  }
 },
 "nbformat": 4,
 "nbformat_minor": 5
}
