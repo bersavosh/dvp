{
 "cells": [
  {
   "cell_type": "markdown",
   "id": "20bd37f8-921f-4982-b184-7f476c36e1db",
   "metadata": {},
   "source": [
    "# Altair workbook\n",
    "\n",
    "Reproducing the seaborn workbook, but visualizations through Altair."
   ]
  },
  {
   "cell_type": "code",
   "execution_count": null,
   "id": "60749256-5d87-4755-ac66-09b86636fee3",
   "metadata": {},
   "outputs": [],
   "source": [
    "import numpy as np\n",
    "import pandas as pd\n",
    "import altair as alt"
   ]
  },
  {
   "cell_type": "markdown",
   "id": "3148fbf1-44c6-4ad9-9ddc-668c814d93f5",
   "metadata": {},
   "source": [
    "## Data\n",
    "\n",
    "We will use the same mortgage data we practiced with in the pandas tutorials."
   ]
  },
  {
   "cell_type": "code",
   "execution_count": null,
   "id": "b64d6f1d-a607-4f4b-a6c8-80ff23c6e273",
   "metadata": {},
   "outputs": [],
   "source": [
    "data = pd.read_csv('../data/loan_data_subset.csv')\n",
    "data.head()"
   ]
  },
  {
   "cell_type": "markdown",
   "id": "b77deccf-f450-46ec-8bf2-db7ef8c57b83",
   "metadata": {},
   "source": [
    "## How many type of loans are there in this dataset? which one is most requested? \n",
    "\n",
    "(barchart)"
   ]
  },
  {
   "cell_type": "code",
   "execution_count": null,
   "id": "96f11f43-6863-408f-a983-87e00e23b1d1",
   "metadata": {},
   "outputs": [],
   "source": [
    "alt.Chart(data,height=300).mark_bar().encode(\n",
    "    x='count(loan_purpose_name)',\n",
    "    y='loan_purpose_name',\n",
    "    tooltip=['count(loan_purpose_name)'])"
   ]
  },
  {
   "cell_type": "markdown",
   "id": "7bf2abda-ebb6-467d-b318-62690ef4745d",
   "metadata": {},
   "source": [
    "### Applying sorting to the bar chart"
   ]
  },
  {
   "cell_type": "code",
   "execution_count": null,
   "id": "b4a8fc91-0c20-415b-8693-273dce0ea19d",
   "metadata": {},
   "outputs": [],
   "source": [
    "alt.Chart(data,height=300).mark_bar().encode(\n",
    "    x='count(loan_purpose_name)',\n",
    "    y=alt.Y('loan_purpose_name',sort='-x'),\n",
    "    tooltip=['count(loan_purpose_name)'])"
   ]
  },
  {
   "cell_type": "markdown",
   "id": "acee00a1-b07a-4dac-850f-abd7ee28ef0f",
   "metadata": {},
   "source": [
    "## There are multiple loan agencies (`agency_abbr`). Is any of them particularly getting more requests from low/high income applicants? or for a specific type of loan?\n",
    "\n",
    "Let's first make a bar chart of agency and median income of applicants:"
   ]
  },
  {
   "cell_type": "code",
   "execution_count": null,
   "id": "093391ed-6428-42ca-b8e8-8a062e7f6419",
   "metadata": {},
   "outputs": [],
   "source": [
    "alt.Chart(data,width=500).mark_bar().encode(\n",
    "    x = alt.X('agency_abbr',sort='-y'),\n",
    "    y = 'median(applicant_income_000s)',\n",
    "    color = alt.X('agency_abbr',sort='-y'),\n",
    "    tooltip=['median(applicant_income_000s)','count(applicant_income_000s)'])"
   ]
  },
  {
   "cell_type": "markdown",
   "id": "e4819b26-0039-47d8-93ee-cdf38a640769",
   "metadata": {},
   "source": [
    "#### Now let's make a bar chart categorizing with both agency and loan type"
   ]
  },
  {
   "cell_type": "code",
   "execution_count": null,
   "id": "68c283c3-291d-450e-922d-af62774bbc8b",
   "metadata": {},
   "outputs": [],
   "source": [
    "alt.Chart(data,width=200).mark_bar().encode(\n",
    "    column = 'loan_purpose_name:O',\n",
    "    y = 'count(loan_purpose_name)',\n",
    "    x = alt.X('agency_abbr',sort='y'),\n",
    "    color = 'agency_abbr',\n",
    "    tooltip = ['count(loan_purpose_name)'])"
   ]
  },
  {
   "cell_type": "markdown",
   "id": "13522fcc-4af3-4b39-958f-4c348151e3af",
   "metadata": {},
   "source": [
    "## distribution of loan amount as a boxplot function, categorized by agency and loan type"
   ]
  },
  {
   "cell_type": "code",
   "execution_count": null,
   "id": "7288b4e3-8078-4988-a2ca-8dfa46d29f91",
   "metadata": {},
   "outputs": [],
   "source": [
    "alt.Chart(data,width=200).mark_boxplot().encode(\n",
    "    column = 'loan_purpose_name:O',\n",
    "    y = alt.Y('loan_amount_000s'),\n",
    "    x = alt.X('agency_abbr',sort='y'),\n",
    "    color = 'agency_abbr')"
   ]
  },
  {
   "cell_type": "markdown",
   "id": "d8537f23-180c-404c-9eec-06bea0927112",
   "metadata": {},
   "source": [
    "The outliers are strong with this one!"
   ]
  },
  {
   "cell_type": "code",
   "execution_count": null,
   "id": "536b54ab-71f7-4cd5-98ad-be5126ab68c2",
   "metadata": {},
   "outputs": [],
   "source": [
    "alt.Chart(data,width=200).mark_boxplot().encode(\n",
    "    column = 'loan_purpose_name:O',\n",
    "    y = alt.Y('loan_amount_000s',scale=alt.Scale(type=\"log\")),\n",
    "    x = alt.X('agency_abbr',sort='y'),\n",
    "    color = 'agency_abbr')"
   ]
  },
  {
   "cell_type": "markdown",
   "id": "09b26b88-4658-4aab-a108-ed2429248672",
   "metadata": {},
   "source": [
    "## How are the loan amounts distributed per type of loan?\n",
    "\n",
    "Let's first look at median"
   ]
  },
  {
   "cell_type": "code",
   "execution_count": null,
   "id": "e77f7a87-0e05-4f74-8a3a-db90209f1c8a",
   "metadata": {},
   "outputs": [],
   "source": [
    "alt.Chart(data,width=500).mark_bar().encode(\n",
    "    x = 'loan_purpose_name',\n",
    "    y = 'median(loan_amount_000s)'\n",
    ")"
   ]
  },
  {
   "cell_type": "markdown",
   "id": "772eb776-07ce-419a-873d-6e59b4f5c0f5",
   "metadata": {},
   "source": [
    "How are they distributed?"
   ]
  },
  {
   "cell_type": "code",
   "execution_count": null,
   "id": "9aac5242-0495-4845-9871-646be865fa94",
   "metadata": {},
   "outputs": [],
   "source": [
    "alt.Chart(data).transform_density(\n",
    "    'loan_amount_000s',\n",
    "    as_=['loan_amount_000s', 'density'],\n",
    "    groupby=['loan_purpose_name']\n",
    ").mark_area(orient='horizontal').encode(\n",
    "    y=alt.Y('loan_amount_000s',scale=alt.Scale(type=\"linear\")),\n",
    "    color='loan_purpose_name',\n",
    "    x=alt.X(\n",
    "        'density:Q',\n",
    "        stack='center',\n",
    "        impute=None,\n",
    "        title=None,\n",
    "        axis=alt.Axis(labels=False, values=[0],grid=False, ticks=True),\n",
    "    ),\n",
    "    column=alt.Column(\n",
    "        'loan_purpose_name:N',\n",
    "        header=alt.Header(\n",
    "            titleOrient='bottom',\n",
    "            labelOrient='bottom',\n",
    "            labelPadding=0,\n",
    "        ),\n",
    "    )\n",
    ").properties(\n",
    "    width=100\n",
    ").configure_facet(\n",
    "    spacing=0\n",
    ").configure_view(\n",
    "    stroke=None\n",
    ")"
   ]
  },
  {
   "cell_type": "markdown",
   "id": "84afd688-3bad-4c85-934f-415740778252",
   "metadata": {},
   "source": [
    "Let's do this in log-scale based on log of the data"
   ]
  },
  {
   "cell_type": "code",
   "execution_count": null,
   "id": "8a2a0eec-7658-404e-8ac2-9d7240288294",
   "metadata": {},
   "outputs": [],
   "source": [
    "data['log_loan_amount_000s'] = np.log10(data['loan_amount_000s'])"
   ]
  },
  {
   "cell_type": "code",
   "execution_count": null,
   "id": "5a88669c-8795-42f4-b174-e0f3f0282592",
   "metadata": {},
   "outputs": [],
   "source": [
    "alt.Chart(data).transform_density(\n",
    "    'log_loan_amount_000s',\n",
    "    as_=['log_loan_amount_000s', 'density'],\n",
    "    extent=[0,4],\n",
    "    groupby=['loan_purpose_name']\n",
    ").mark_area(orient='horizontal').encode(\n",
    "    y=alt.Y('log_loan_amount_000s',scale=alt.Scale(type=\"linear\")),\n",
    "    color='loan_purpose_name',\n",
    "    x=alt.X(\n",
    "        'density:Q',\n",
    "        stack='center',\n",
    "        impute=None,\n",
    "        title=None,\n",
    "        axis=alt.Axis(labels=False, values=[0],grid=False, ticks=True),\n",
    "    ),\n",
    "    column=alt.Column(\n",
    "        'loan_purpose_name:N',\n",
    "        header=alt.Header(\n",
    "            titleOrient='bottom',\n",
    "            labelOrient='bottom',\n",
    "            labelPadding=0,\n",
    "        ),\n",
    "    )\n",
    ").properties(\n",
    "    width=100\n",
    ").configure_facet(\n",
    "    spacing=0\n",
    ").configure_view(\n",
    "    stroke=None\n",
    ")"
   ]
  },
  {
   "cell_type": "markdown",
   "id": "84c6e1b5-b40e-4101-9ba6-5dc969ad7ffb",
   "metadata": {},
   "source": [
    "### let's visualize that with a swarm plot\n",
    "*a.k.a. remember `geom_jitter` in `ggplot`? (lecture 2 by Suman)*"
   ]
  },
  {
   "cell_type": "code",
   "execution_count": null,
   "id": "61e08412-9301-4c20-9025-9c1ad77a8ed4",
   "metadata": {},
   "outputs": [],
   "source": [
    "stripplot =  alt.Chart(data, width=200).mark_circle(size=8).encode(\n",
    "    x=alt.X(\n",
    "        'jitter:Q',\n",
    "        title=None,\n",
    "        axis=alt.Axis(values=[0], ticks=True, grid=False, labels=False),\n",
    "        scale=alt.Scale(),\n",
    "    ),\n",
    "    y=alt.Y('log_loan_amount_000s:Q'),\n",
    "    color=alt.Color('loan_purpose_name:N', legend=None),\n",
    "    column=alt.Column(\n",
    "        'loan_purpose_name:N',\n",
    "        header=alt.Header(\n",
    "            labelAngle=-90,\n",
    "            titleOrient='top',\n",
    "            labelOrient='bottom',\n",
    "            labelAlign='right',\n",
    "            labelPadding=3,\n",
    "        ),\n",
    "    ),\n",
    ").transform_calculate(\n",
    "    # Generate Gaussian jitter with a Box-Muller transform\n",
    "    jitter='sqrt(-2*log(random()))*cos(2*PI*random())'\n",
    ").configure_facet(\n",
    "    spacing=0\n",
    ").configure_view(\n",
    "    stroke=None\n",
    ")\n",
    "\n",
    "stripplot"
   ]
  },
  {
   "cell_type": "code",
   "execution_count": null,
   "id": "ca12beb2-0562-4c6a-b19a-93bbc19cac9b",
   "metadata": {},
   "outputs": [],
   "source": [
    "\n",
    "alt.Chart(data).mark_circle(size=60).encode(\n",
    "    x=alt.X('loan_amount_000s',scale=alt.Scale(type='log')),\n",
    "    y=alt.Y('applicant_income_000s',scale=alt.Scale(type='log')),\n",
    "    color='loan_purpose_name',\n",
    "    tooltip=['agency_name']\n",
    ").interactive()\n",
    "\n"
   ]
  },
  {
   "cell_type": "code",
   "execution_count": null,
   "id": "e1c5cb5f-3761-45ad-97c7-96664fbf8a9a",
   "metadata": {},
   "outputs": [],
   "source": []
  }
 ],
 "metadata": {
  "kernelspec": {
   "display_name": "inferno",
   "language": "python",
   "name": "inferno"
  },
  "language_info": {
   "codemirror_mode": {
    "name": "ipython",
    "version": 3
   },
   "file_extension": ".py",
   "mimetype": "text/x-python",
   "name": "python",
   "nbconvert_exporter": "python",
   "pygments_lexer": "ipython3",
   "version": "3.8.13"
  }
 },
 "nbformat": 4,
 "nbformat_minor": 5
}
