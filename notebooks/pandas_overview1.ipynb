{
 "cells": [
  {
   "cell_type": "markdown",
   "id": "7bf02b82-1177-42a6-8b84-2493bca78b41",
   "metadata": {},
   "source": [
    "# A quick overview of `Pandas`: Part $I$\n",
    "\n",
    "We use USA public mortgage data available from [HMDA](https://www.consumerfinance.gov/data-research/hmda/)\n",
    "\n",
    "(Later we will use the same data for visualization)"
   ]
  },
  {
   "cell_type": "code",
   "execution_count": 1,
   "id": "e882acf3-04ed-4410-a51e-2bfba9911fba",
   "metadata": {},
   "outputs": [],
   "source": [
    "import pandas as pd"
   ]
  },
  {
   "cell_type": "markdown",
   "id": "862d3068-6398-409b-916e-7bf309f335b5",
   "metadata": {},
   "source": [
    "Reading in the data"
   ]
  },
  {
   "cell_type": "code",
   "execution_count": 2,
   "id": "d1233872-719b-4ccf-a71e-1f088473d24d",
   "metadata": {},
   "outputs": [],
   "source": [
    "data = pd.read_csv('../data/loan_data_subset.csv')"
   ]
  },
  {
   "cell_type": "markdown",
   "id": "048a1077-e460-461e-956e-f1a397894fd4",
   "metadata": {},
   "source": [
    "View the first few rows of the file and set the number of columns displayed. "
   ]
  },
  {
   "cell_type": "code",
   "execution_count": 3,
   "id": "59aa6b3f-6095-4a11-9a30-c8f333827215",
   "metadata": {},
   "outputs": [
    {
     "data": {
      "text/html": [
       "<div>\n",
       "<style scoped>\n",
       "    .dataframe tbody tr th:only-of-type {\n",
       "        vertical-align: middle;\n",
       "    }\n",
       "\n",
       "    .dataframe tbody tr th {\n",
       "        vertical-align: top;\n",
       "    }\n",
       "\n",
       "    .dataframe thead th {\n",
       "        text-align: right;\n",
       "    }\n",
       "</style>\n",
       "<table border=\"1\" class=\"dataframe\">\n",
       "  <thead>\n",
       "    <tr style=\"text-align: right;\">\n",
       "      <th></th>\n",
       "      <th>action_taken</th>\n",
       "      <th>action_taken_name</th>\n",
       "      <th>agency_code</th>\n",
       "      <th>agency_abbr</th>\n",
       "      <th>agency_name</th>\n",
       "      <th>applicant_ethnicity</th>\n",
       "      <th>applicant_ethnicity_name</th>\n",
       "      <th>applicant_income_000s</th>\n",
       "      <th>applicant_race_1</th>\n",
       "      <th>applicant_race_name_1</th>\n",
       "      <th>applicant_sex</th>\n",
       "      <th>applicant_sex_name</th>\n",
       "      <th>census_tract_number</th>\n",
       "      <th>co_applicant_ethnicity</th>\n",
       "      <th>co_applicant_ethnicity_name</th>\n",
       "      <th>co_applicant_race_1</th>\n",
       "      <th>co_applicant_race_name_1</th>\n",
       "      <th>co_applicant_sex</th>\n",
       "      <th>co_applicant_sex_name</th>\n",
       "      <th>county_code</th>\n",
       "      <th>county_name</th>\n",
       "      <th>hoepa_status</th>\n",
       "      <th>hoepa_status_name</th>\n",
       "      <th>lien_status</th>\n",
       "      <th>lien_status_name</th>\n",
       "      <th>loan_purpose</th>\n",
       "      <th>loan_purpose_name</th>\n",
       "      <th>loan_type</th>\n",
       "      <th>loan_type_name</th>\n",
       "      <th>owner_occupancy</th>\n",
       "      <th>owner_occupancy_name</th>\n",
       "      <th>preapproval</th>\n",
       "      <th>preapproval_name</th>\n",
       "      <th>property_type</th>\n",
       "      <th>property_type_name</th>\n",
       "      <th>purchaser_type</th>\n",
       "      <th>purchaser_type_name</th>\n",
       "      <th>hud_median_family_income</th>\n",
       "      <th>loan_amount_000s</th>\n",
       "      <th>number_of_1_to_4_family_units</th>\n",
       "      <th>number_of_owner_occupied_units</th>\n",
       "      <th>minority_population</th>\n",
       "      <th>population</th>\n",
       "      <th>tract_to_msamd_income</th>\n",
       "    </tr>\n",
       "  </thead>\n",
       "  <tbody>\n",
       "    <tr>\n",
       "      <th>0</th>\n",
       "      <td>1</td>\n",
       "      <td>Loan originated</td>\n",
       "      <td>2</td>\n",
       "      <td>FRS</td>\n",
       "      <td>Federal Reserve System</td>\n",
       "      <td>3</td>\n",
       "      <td>Information not provided by applicant in mail,...</td>\n",
       "      <td>36.0</td>\n",
       "      <td>6</td>\n",
       "      <td>Information not provided by applicant in mail,...</td>\n",
       "      <td>3</td>\n",
       "      <td>Information not provided by applicant in mail,...</td>\n",
       "      <td>2555.0</td>\n",
       "      <td>5</td>\n",
       "      <td>No co-applicant</td>\n",
       "      <td>8</td>\n",
       "      <td>No co-applicant</td>\n",
       "      <td>5</td>\n",
       "      <td>No co-applicant</td>\n",
       "      <td>99.0</td>\n",
       "      <td>Macomb County</td>\n",
       "      <td>2</td>\n",
       "      <td>Not a HOEPA loan</td>\n",
       "      <td>1</td>\n",
       "      <td>Secured by a first lien</td>\n",
       "      <td>1</td>\n",
       "      <td>Home purchase</td>\n",
       "      <td>2</td>\n",
       "      <td>FHA-insured</td>\n",
       "      <td>1</td>\n",
       "      <td>Owner-occupied as a principal dwelling</td>\n",
       "      <td>2</td>\n",
       "      <td>Preapproval was not requested</td>\n",
       "      <td>1</td>\n",
       "      <td>One-to-four family dwelling (other than manufa...</td>\n",
       "      <td>2</td>\n",
       "      <td>Ginnie Mae (GNMA)</td>\n",
       "      <td>79600.0</td>\n",
       "      <td>85</td>\n",
       "      <td>671.0</td>\n",
       "      <td>541.0</td>\n",
       "      <td>17.190001</td>\n",
       "      <td>1664.0</td>\n",
       "      <td>78.669998</td>\n",
       "    </tr>\n",
       "    <tr>\n",
       "      <th>1</th>\n",
       "      <td>1</td>\n",
       "      <td>Loan originated</td>\n",
       "      <td>5</td>\n",
       "      <td>NCUA</td>\n",
       "      <td>National Credit Union Administration</td>\n",
       "      <td>2</td>\n",
       "      <td>Not Hispanic or Latino</td>\n",
       "      <td>10.0</td>\n",
       "      <td>5</td>\n",
       "      <td>White</td>\n",
       "      <td>1</td>\n",
       "      <td>Male</td>\n",
       "      <td>4480.0</td>\n",
       "      <td>1</td>\n",
       "      <td>Hispanic or Latino</td>\n",
       "      <td>5</td>\n",
       "      <td>White</td>\n",
       "      <td>2</td>\n",
       "      <td>Female</td>\n",
       "      <td>161.0</td>\n",
       "      <td>Washtenaw County</td>\n",
       "      <td>2</td>\n",
       "      <td>Not a HOEPA loan</td>\n",
       "      <td>2</td>\n",
       "      <td>Secured by a subordinate lien</td>\n",
       "      <td>2</td>\n",
       "      <td>Home improvement</td>\n",
       "      <td>1</td>\n",
       "      <td>Conventional</td>\n",
       "      <td>1</td>\n",
       "      <td>Owner-occupied as a principal dwelling</td>\n",
       "      <td>3</td>\n",
       "      <td>Not applicable</td>\n",
       "      <td>1</td>\n",
       "      <td>One-to-four family dwelling (other than manufa...</td>\n",
       "      <td>0</td>\n",
       "      <td>Loan was not originated or was not sold in cal...</td>\n",
       "      <td>88300.0</td>\n",
       "      <td>22</td>\n",
       "      <td>1402.0</td>\n",
       "      <td>1305.0</td>\n",
       "      <td>6.630000</td>\n",
       "      <td>3726.0</td>\n",
       "      <td>105.410004</td>\n",
       "    </tr>\n",
       "    <tr>\n",
       "      <th>2</th>\n",
       "      <td>4</td>\n",
       "      <td>Application withdrawn by applicant</td>\n",
       "      <td>9</td>\n",
       "      <td>CFPB</td>\n",
       "      <td>Consumer Financial Protection Bureau</td>\n",
       "      <td>1</td>\n",
       "      <td>Hispanic or Latino</td>\n",
       "      <td>28.0</td>\n",
       "      <td>5</td>\n",
       "      <td>White</td>\n",
       "      <td>1</td>\n",
       "      <td>Male</td>\n",
       "      <td>139.0</td>\n",
       "      <td>5</td>\n",
       "      <td>No co-applicant</td>\n",
       "      <td>8</td>\n",
       "      <td>No co-applicant</td>\n",
       "      <td>5</td>\n",
       "      <td>No co-applicant</td>\n",
       "      <td>81.0</td>\n",
       "      <td>Kent County</td>\n",
       "      <td>2</td>\n",
       "      <td>Not a HOEPA loan</td>\n",
       "      <td>1</td>\n",
       "      <td>Secured by a first lien</td>\n",
       "      <td>1</td>\n",
       "      <td>Home purchase</td>\n",
       "      <td>1</td>\n",
       "      <td>Conventional</td>\n",
       "      <td>1</td>\n",
       "      <td>Owner-occupied as a principal dwelling</td>\n",
       "      <td>3</td>\n",
       "      <td>Not applicable</td>\n",
       "      <td>1</td>\n",
       "      <td>One-to-four family dwelling (other than manufa...</td>\n",
       "      <td>0</td>\n",
       "      <td>Loan was not originated or was not sold in cal...</td>\n",
       "      <td>67000.0</td>\n",
       "      <td>119</td>\n",
       "      <td>1819.0</td>\n",
       "      <td>1542.0</td>\n",
       "      <td>24.240000</td>\n",
       "      <td>6979.0</td>\n",
       "      <td>89.099998</td>\n",
       "    </tr>\n",
       "  </tbody>\n",
       "</table>\n",
       "</div>"
      ],
      "text/plain": [
       "   action_taken                   action_taken_name  agency_code agency_abbr  \\\n",
       "0             1                     Loan originated            2         FRS   \n",
       "1             1                     Loan originated            5        NCUA   \n",
       "2             4  Application withdrawn by applicant            9        CFPB   \n",
       "\n",
       "                            agency_name  applicant_ethnicity  \\\n",
       "0                Federal Reserve System                    3   \n",
       "1  National Credit Union Administration                    2   \n",
       "2  Consumer Financial Protection Bureau                    1   \n",
       "\n",
       "                            applicant_ethnicity_name  applicant_income_000s  \\\n",
       "0  Information not provided by applicant in mail,...                   36.0   \n",
       "1                             Not Hispanic or Latino                   10.0   \n",
       "2                                 Hispanic or Latino                   28.0   \n",
       "\n",
       "   applicant_race_1                              applicant_race_name_1  \\\n",
       "0                 6  Information not provided by applicant in mail,...   \n",
       "1                 5                                              White   \n",
       "2                 5                                              White   \n",
       "\n",
       "   applicant_sex                                 applicant_sex_name  \\\n",
       "0              3  Information not provided by applicant in mail,...   \n",
       "1              1                                               Male   \n",
       "2              1                                               Male   \n",
       "\n",
       "   census_tract_number  co_applicant_ethnicity co_applicant_ethnicity_name  \\\n",
       "0               2555.0                       5             No co-applicant   \n",
       "1               4480.0                       1          Hispanic or Latino   \n",
       "2                139.0                       5             No co-applicant   \n",
       "\n",
       "   co_applicant_race_1 co_applicant_race_name_1  co_applicant_sex  \\\n",
       "0                    8          No co-applicant                 5   \n",
       "1                    5                    White                 2   \n",
       "2                    8          No co-applicant                 5   \n",
       "\n",
       "  co_applicant_sex_name  county_code       county_name  hoepa_status  \\\n",
       "0       No co-applicant         99.0     Macomb County             2   \n",
       "1                Female        161.0  Washtenaw County             2   \n",
       "2       No co-applicant         81.0       Kent County             2   \n",
       "\n",
       "  hoepa_status_name  lien_status               lien_status_name  loan_purpose  \\\n",
       "0  Not a HOEPA loan            1        Secured by a first lien             1   \n",
       "1  Not a HOEPA loan            2  Secured by a subordinate lien             2   \n",
       "2  Not a HOEPA loan            1        Secured by a first lien             1   \n",
       "\n",
       "  loan_purpose_name  loan_type loan_type_name  owner_occupancy  \\\n",
       "0     Home purchase          2    FHA-insured                1   \n",
       "1  Home improvement          1   Conventional                1   \n",
       "2     Home purchase          1   Conventional                1   \n",
       "\n",
       "                     owner_occupancy_name  preapproval  \\\n",
       "0  Owner-occupied as a principal dwelling            2   \n",
       "1  Owner-occupied as a principal dwelling            3   \n",
       "2  Owner-occupied as a principal dwelling            3   \n",
       "\n",
       "                preapproval_name  property_type  \\\n",
       "0  Preapproval was not requested              1   \n",
       "1                 Not applicable              1   \n",
       "2                 Not applicable              1   \n",
       "\n",
       "                                  property_type_name  purchaser_type  \\\n",
       "0  One-to-four family dwelling (other than manufa...               2   \n",
       "1  One-to-four family dwelling (other than manufa...               0   \n",
       "2  One-to-four family dwelling (other than manufa...               0   \n",
       "\n",
       "                                 purchaser_type_name  \\\n",
       "0                                  Ginnie Mae (GNMA)   \n",
       "1  Loan was not originated or was not sold in cal...   \n",
       "2  Loan was not originated or was not sold in cal...   \n",
       "\n",
       "   hud_median_family_income  loan_amount_000s  number_of_1_to_4_family_units  \\\n",
       "0                   79600.0                85                          671.0   \n",
       "1                   88300.0                22                         1402.0   \n",
       "2                   67000.0               119                         1819.0   \n",
       "\n",
       "   number_of_owner_occupied_units  minority_population  population  \\\n",
       "0                           541.0            17.190001      1664.0   \n",
       "1                          1305.0             6.630000      3726.0   \n",
       "2                          1542.0            24.240000      6979.0   \n",
       "\n",
       "   tract_to_msamd_income  \n",
       "0              78.669998  \n",
       "1             105.410004  \n",
       "2              89.099998  "
      ]
     },
     "execution_count": 3,
     "metadata": {},
     "output_type": "execute_result"
    }
   ],
   "source": [
    "pd.set_option('display.max_columns', 80) \n",
    "data.head(3)"
   ]
  },
  {
   "cell_type": "markdown",
   "id": "10b429e4-bdb9-4a55-a538-46ae4d6a71ce",
   "metadata": {},
   "source": [
    "Metadata:\n",
    "\n",
    "- [Explanation of columns](https://www.dropbox.com/s/2tze8fy1cnep1u0/lar_record_format.pdf?dl=0) \n",
    "- [Explanation of codes](https://www.dropbox.com/s/3kxqdgwk6p9jqg5/lar_record_codes.pdf?dl=0)\n",
    "\n",
    "\n",
    "### Determine the number of rows and columns in the dataset"
   ]
  },
  {
   "cell_type": "code",
   "execution_count": 4,
   "id": "2235bce9-7239-4c66-8672-0dcd68ccb6ca",
   "metadata": {},
   "outputs": [
    {
     "data": {
      "text/plain": [
       "(5000, 44)"
      ]
     },
     "execution_count": 4,
     "metadata": {},
     "output_type": "execute_result"
    }
   ],
   "source": [
    "data.shape"
   ]
  },
  {
   "cell_type": "markdown",
   "id": "4f97c1b6-fc44-432f-8efc-11da026cdf3d",
   "metadata": {},
   "source": [
    "### Find the number of rows in the dataset"
   ]
  },
  {
   "cell_type": "code",
   "execution_count": 5,
   "id": "514c7d0c-8b73-4170-8a96-c7b4e8d827e5",
   "metadata": {},
   "outputs": [
    {
     "data": {
      "text/plain": [
       "5000"
      ]
     },
     "execution_count": 5,
     "metadata": {},
     "output_type": "execute_result"
    }
   ],
   "source": [
    "len(data)"
   ]
  },
  {
   "cell_type": "markdown",
   "id": "c2c825fb-dd3d-4cf6-9892-27de14b87ca4",
   "metadata": {},
   "source": [
    "### Get the names of the columns"
   ]
  },
  {
   "cell_type": "code",
   "execution_count": 6,
   "id": "0e398fc7-502a-48d5-9ce8-503b7e16bd31",
   "metadata": {},
   "outputs": [
    {
     "data": {
      "text/plain": [
       "Index(['action_taken', 'action_taken_name', 'agency_code', 'agency_abbr',\n",
       "       'agency_name', 'applicant_ethnicity', 'applicant_ethnicity_name',\n",
       "       'applicant_income_000s', 'applicant_race_1', 'applicant_race_name_1',\n",
       "       'applicant_sex', 'applicant_sex_name', 'census_tract_number',\n",
       "       'co_applicant_ethnicity', 'co_applicant_ethnicity_name',\n",
       "       'co_applicant_race_1', 'co_applicant_race_name_1', 'co_applicant_sex',\n",
       "       'co_applicant_sex_name', 'county_code', 'county_name', 'hoepa_status',\n",
       "       'hoepa_status_name', 'lien_status', 'lien_status_name', 'loan_purpose',\n",
       "       'loan_purpose_name', 'loan_type', 'loan_type_name', 'owner_occupancy',\n",
       "       'owner_occupancy_name', 'preapproval', 'preapproval_name',\n",
       "       'property_type', 'property_type_name', 'purchaser_type',\n",
       "       'purchaser_type_name', 'hud_median_family_income', 'loan_amount_000s',\n",
       "       'number_of_1_to_4_family_units', 'number_of_owner_occupied_units',\n",
       "       'minority_population', 'population', 'tract_to_msamd_income'],\n",
       "      dtype='object')"
      ]
     },
     "execution_count": 6,
     "metadata": {},
     "output_type": "execute_result"
    }
   ],
   "source": [
    "data.columns"
   ]
  },
  {
   "cell_type": "markdown",
   "id": "97ecdbe5-64af-4a3a-aaa7-616dc1bfe731",
   "metadata": {},
   "source": [
    "### Get the first five rows of a column by name"
   ]
  },
  {
   "cell_type": "code",
   "execution_count": 7,
   "id": "72064a0d-3cce-4522-80ec-3ed26e00c431",
   "metadata": {},
   "outputs": [
    {
     "data": {
      "text/plain": [
       "0    1\n",
       "1    1\n",
       "2    4\n",
       "3    3\n",
       "4    1\n",
       "Name: action_taken, dtype: int64"
      ]
     },
     "execution_count": 7,
     "metadata": {},
     "output_type": "execute_result"
    }
   ],
   "source": [
    "data['action_taken'][:5]"
   ]
  },
  {
   "cell_type": "markdown",
   "id": "73a2fe17-85e2-47bb-9d4a-5c5aa0aabeff",
   "metadata": {},
   "source": [
    "### Create categorical ranges for numerical data\n",
    "\n",
    "Note that that you can specifiy the number of ranges you wish."
   ]
  },
  {
   "cell_type": "code",
   "execution_count": 8,
   "id": "36134d5a-d8cf-4a88-958d-a40e64b7fd98",
   "metadata": {},
   "outputs": [
    {
     "data": {
      "text/plain": [
       "0    (-5.945, 497.071]\n",
       "1    (-5.945, 497.071]\n",
       "2    (-5.945, 497.071]\n",
       "3    (-5.945, 497.071]\n",
       "4    (-5.945, 497.071]\n",
       "Name: applicant_income_000s, dtype: category\n",
       "Categories (14, interval[float64, right]): [(-5.945, 497.071] < (497.071, 993.143] < (993.143, 1489.214] < (1489.214, 1985.286] ... (4961.714, 5457.786] < (5457.786, 5953.857] < (5953.857, 6449.929] < (6449.929, 6946.0]]"
      ]
     },
     "execution_count": 8,
     "metadata": {},
     "output_type": "execute_result"
    }
   ],
   "source": [
    "incomeranges = pd.cut(data['applicant_income_000s'], 14)\n",
    "incomeranges[:5]"
   ]
  },
  {
   "cell_type": "markdown",
   "id": "afc38e7e-ac79-4a12-852b-7801b3e5d242",
   "metadata": {},
   "source": [
    "### Look at the value counts in the ranges created above"
   ]
  },
  {
   "cell_type": "code",
   "execution_count": 9,
   "id": "8931c33a-0b96-4a84-a7fe-71b9fae2ffde",
   "metadata": {},
   "outputs": [
    {
     "data": {
      "text/plain": [
       "(-5.945, 497.071]       4446\n",
       "(497.071, 993.143]        19\n",
       "(993.143, 1489.214]        4\n",
       "(2481.357, 2977.429]       2\n",
       "(1985.286, 2481.357]       1\n",
       "(6449.929, 6946.0]         1\n",
       "(1489.214, 1985.286]       0\n",
       "(2977.429, 3473.5]         0\n",
       "(3473.5, 3969.571]         0\n",
       "(3969.571, 4465.643]       0\n",
       "(4465.643, 4961.714]       0\n",
       "(4961.714, 5457.786]       0\n",
       "(5457.786, 5953.857]       0\n",
       "(5953.857, 6449.929]       0\n",
       "Name: applicant_income_000s, dtype: int64"
      ]
     },
     "execution_count": 9,
     "metadata": {},
     "output_type": "execute_result"
    }
   ],
   "source": [
    "pd.value_counts(incomeranges)"
   ]
  },
  {
   "cell_type": "markdown",
   "id": "0270c750-ceff-46fb-94b1-99707c62aab8",
   "metadata": {},
   "source": [
    "### Index into the first six columns of the first row"
   ]
  },
  {
   "cell_type": "code",
   "execution_count": 10,
   "id": "ce4c62aa-26de-4401-81c6-af8c6055ff81",
   "metadata": {},
   "outputs": [
    {
     "data": {
      "text/plain": [
       "action_taken                                1\n",
       "action_taken_name             Loan originated\n",
       "agency_code                                 2\n",
       "agency_abbr                               FRS\n",
       "agency_name            Federal Reserve System\n",
       "applicant_ethnicity                         3\n",
       "Name: 0, dtype: object"
      ]
     },
     "execution_count": 10,
     "metadata": {},
     "output_type": "execute_result"
    }
   ],
   "source": [
    "data.iloc[0,0:6]"
   ]
  },
  {
   "cell_type": "markdown",
   "id": "6aae1181-323a-4b0c-961c-3dee90875e18",
   "metadata": {},
   "source": [
    "### Order the data by specified column"
   ]
  },
  {
   "cell_type": "code",
   "execution_count": 11,
   "id": "6f5dc1e2-957c-4fee-a60a-974881e7355e",
   "metadata": {},
   "outputs": [
    {
     "data": {
      "text/plain": [
       "2103    1\n",
       "482     1\n",
       "1077    1\n",
       "4227    1\n",
       "3858    1\n",
       "Name: loan_amount_000s, dtype: int64"
      ]
     },
     "execution_count": 11,
     "metadata": {},
     "output_type": "execute_result"
    }
   ],
   "source": [
    "data['loan_amount_000s'].sort_values()[:5]"
   ]
  },
  {
   "cell_type": "markdown",
   "id": "f5263347-ee3d-4498-8b6d-9c0e0155364b",
   "metadata": {},
   "source": [
    "### Sort by a column and then obtain a cross-section of that data"
   ]
  },
  {
   "cell_type": "code",
   "execution_count": 12,
   "id": "51e0be35-93a9-4a2d-a65d-d66bfcd4eafd",
   "metadata": {},
   "outputs": [
    {
     "data": {
      "text/html": [
       "<div>\n",
       "<style scoped>\n",
       "    .dataframe tbody tr th:only-of-type {\n",
       "        vertical-align: middle;\n",
       "    }\n",
       "\n",
       "    .dataframe tbody tr th {\n",
       "        vertical-align: top;\n",
       "    }\n",
       "\n",
       "    .dataframe thead th {\n",
       "        text-align: right;\n",
       "    }\n",
       "</style>\n",
       "<table border=\"1\" class=\"dataframe\">\n",
       "  <thead>\n",
       "    <tr style=\"text-align: right;\">\n",
       "      <th></th>\n",
       "      <th>action_taken</th>\n",
       "      <th>action_taken_name</th>\n",
       "      <th>agency_code</th>\n",
       "      <th>agency_abbr</th>\n",
       "      <th>agency_name</th>\n",
       "      <th>applicant_ethnicity</th>\n",
       "    </tr>\n",
       "  </thead>\n",
       "  <tbody>\n",
       "    <tr>\n",
       "      <th>2103</th>\n",
       "      <td>6</td>\n",
       "      <td>Loan purchased by the institution</td>\n",
       "      <td>9</td>\n",
       "      <td>CFPB</td>\n",
       "      <td>Consumer Financial Protection Bureau</td>\n",
       "      <td>4</td>\n",
       "    </tr>\n",
       "    <tr>\n",
       "      <th>482</th>\n",
       "      <td>3</td>\n",
       "      <td>Application denied by financial institution</td>\n",
       "      <td>7</td>\n",
       "      <td>HUD</td>\n",
       "      <td>Department of Housing and Urban Development</td>\n",
       "      <td>2</td>\n",
       "    </tr>\n",
       "    <tr>\n",
       "      <th>1077</th>\n",
       "      <td>6</td>\n",
       "      <td>Loan purchased by the institution</td>\n",
       "      <td>9</td>\n",
       "      <td>CFPB</td>\n",
       "      <td>Consumer Financial Protection Bureau</td>\n",
       "      <td>4</td>\n",
       "    </tr>\n",
       "  </tbody>\n",
       "</table>\n",
       "</div>"
      ],
      "text/plain": [
       "      action_taken                            action_taken_name  agency_code  \\\n",
       "2103             6            Loan purchased by the institution            9   \n",
       "482              3  Application denied by financial institution            7   \n",
       "1077             6            Loan purchased by the institution            9   \n",
       "\n",
       "     agency_abbr                                  agency_name  \\\n",
       "2103        CFPB         Consumer Financial Protection Bureau   \n",
       "482          HUD  Department of Housing and Urban Development   \n",
       "1077        CFPB         Consumer Financial Protection Bureau   \n",
       "\n",
       "      applicant_ethnicity  \n",
       "2103                    4  \n",
       "482                     2  \n",
       "1077                    4  "
      ]
     },
     "execution_count": 12,
     "metadata": {},
     "output_type": "execute_result"
    }
   ],
   "source": [
    "sorteddata = data.sort_values(['loan_amount_000s'])\n",
    "sorteddata.iloc[:,0:6].head(3)"
   ]
  },
  {
   "cell_type": "markdown",
   "id": "d1b34b55-29fa-4653-bda0-1b88d4e74530",
   "metadata": {},
   "source": [
    "### Obtain value counts of specifiec column"
   ]
  },
  {
   "cell_type": "code",
   "execution_count": 13,
   "id": "4ab75c00-7cc4-4eb1-9c39-a0295a138fe0",
   "metadata": {},
   "outputs": [
    {
     "data": {
      "text/plain": [
       "Loan originated                                  2788\n",
       "Application denied by financial institution       716\n",
       "Application withdrawn by applicant                585\n",
       "Loan purchased by the institution                 564\n",
       "File closed for incompleteness                    223\n",
       "Application approved but not accepted             123\n",
       "Preapproval request approved but not accepted       1\n",
       "Name: action_taken_name, dtype: int64"
      ]
     },
     "execution_count": 13,
     "metadata": {},
     "output_type": "execute_result"
    }
   ],
   "source": [
    "data['action_taken_name'].value_counts()"
   ]
  },
  {
   "cell_type": "markdown",
   "id": "5be2ccf5-c435-4c39-973e-4ce4db92ab6f",
   "metadata": {},
   "source": [
    "### A way to obtain the datatype for every column"
   ]
  },
  {
   "cell_type": "code",
   "execution_count": 14,
   "id": "f7379370-8357-4a89-b2d1-840dc6c8beee",
   "metadata": {},
   "outputs": [
    {
     "data": {
      "text/plain": [
       "[('action_taken', numpy.int64),\n",
       " ('action_taken_name', str),\n",
       " ('agency_code', numpy.int64),\n",
       " ('agency_abbr', str),\n",
       " ('agency_name', str),\n",
       " ('applicant_ethnicity', numpy.int64),\n",
       " ('applicant_ethnicity_name', str),\n",
       " ('applicant_income_000s', numpy.float64),\n",
       " ('applicant_race_1', numpy.int64),\n",
       " ('applicant_race_name_1', str),\n",
       " ('applicant_sex', numpy.int64),\n",
       " ('applicant_sex_name', str),\n",
       " ('census_tract_number', numpy.float64),\n",
       " ('co_applicant_ethnicity', numpy.int64),\n",
       " ('co_applicant_ethnicity_name', str),\n",
       " ('co_applicant_race_1', numpy.int64),\n",
       " ('co_applicant_race_name_1', str),\n",
       " ('co_applicant_sex', numpy.int64),\n",
       " ('co_applicant_sex_name', str),\n",
       " ('county_code', numpy.float64),\n",
       " ('county_name', str),\n",
       " ('hoepa_status', numpy.int64),\n",
       " ('hoepa_status_name', str),\n",
       " ('lien_status', numpy.int64),\n",
       " ('lien_status_name', str),\n",
       " ('loan_purpose', numpy.int64),\n",
       " ('loan_purpose_name', str),\n",
       " ('loan_type', numpy.int64),\n",
       " ('loan_type_name', str),\n",
       " ('owner_occupancy', numpy.int64),\n",
       " ('owner_occupancy_name', str),\n",
       " ('preapproval', numpy.int64),\n",
       " ('preapproval_name', str),\n",
       " ('property_type', numpy.int64),\n",
       " ('property_type_name', str),\n",
       " ('purchaser_type', numpy.int64),\n",
       " ('purchaser_type_name', str),\n",
       " ('hud_median_family_income', numpy.float64),\n",
       " ('loan_amount_000s', numpy.int64),\n",
       " ('number_of_1_to_4_family_units', numpy.float64),\n",
       " ('number_of_owner_occupied_units', numpy.float64),\n",
       " ('minority_population', numpy.float64),\n",
       " ('population', numpy.float64),\n",
       " ('tract_to_msamd_income', numpy.float64)]"
      ]
     },
     "execution_count": 14,
     "metadata": {},
     "output_type": "execute_result"
    }
   ],
   "source": [
    "list(zip(data.columns, [type(x) for x in data.iloc[0,:]]))"
   ]
  },
  {
   "cell_type": "markdown",
   "id": "092c4fdd-fc98-45b4-9099-a3a89ab4788d",
   "metadata": {},
   "source": [
    "### The Pandas way to obtain datatypes for every column"
   ]
  },
  {
   "cell_type": "code",
   "execution_count": 15,
   "id": "0426cc7f-b983-42ff-a447-e3fc3d5e2db6",
   "metadata": {},
   "outputs": [
    {
     "data": {
      "text/plain": [
       "action_taken                        int64\n",
       "action_taken_name                  object\n",
       "agency_code                         int64\n",
       "agency_abbr                        object\n",
       "agency_name                        object\n",
       "applicant_ethnicity                 int64\n",
       "applicant_ethnicity_name           object\n",
       "applicant_income_000s             float64\n",
       "applicant_race_1                    int64\n",
       "applicant_race_name_1              object\n",
       "applicant_sex                       int64\n",
       "applicant_sex_name                 object\n",
       "census_tract_number               float64\n",
       "co_applicant_ethnicity              int64\n",
       "co_applicant_ethnicity_name        object\n",
       "co_applicant_race_1                 int64\n",
       "co_applicant_race_name_1           object\n",
       "co_applicant_sex                    int64\n",
       "co_applicant_sex_name              object\n",
       "county_code                       float64\n",
       "county_name                        object\n",
       "hoepa_status                        int64\n",
       "hoepa_status_name                  object\n",
       "lien_status                         int64\n",
       "lien_status_name                   object\n",
       "loan_purpose                        int64\n",
       "loan_purpose_name                  object\n",
       "loan_type                           int64\n",
       "loan_type_name                     object\n",
       "owner_occupancy                     int64\n",
       "owner_occupancy_name               object\n",
       "preapproval                         int64\n",
       "preapproval_name                   object\n",
       "property_type                       int64\n",
       "property_type_name                 object\n",
       "purchaser_type                      int64\n",
       "purchaser_type_name                object\n",
       "hud_median_family_income          float64\n",
       "loan_amount_000s                    int64\n",
       "number_of_1_to_4_family_units     float64\n",
       "number_of_owner_occupied_units    float64\n",
       "minority_population               float64\n",
       "population                        float64\n",
       "tract_to_msamd_income             float64\n",
       "dtype: object"
      ]
     },
     "execution_count": 15,
     "metadata": {},
     "output_type": "execute_result"
    }
   ],
   "source": [
    "data.dtypes"
   ]
  },
  {
   "cell_type": "markdown",
   "id": "85dd97ef-2696-4858-96ef-c48341a00d9c",
   "metadata": {},
   "source": [
    "### Get the unique values for a column by name."
   ]
  },
  {
   "cell_type": "code",
   "execution_count": 16,
   "id": "d8f1f069-0eab-42b0-96a9-92342f7fecf0",
   "metadata": {},
   "outputs": [
    {
     "data": {
      "text/plain": [
       "array(['Macomb County', 'Washtenaw County', 'Kent County',\n",
       "       'Genesee County', 'Mecosta County', 'Oakland County',\n",
       "       'Ottawa County', 'Wayne County', 'Shiawassee County',\n",
       "       'Muskegon County', 'Midland County', 'Cass County',\n",
       "       'Ingham County', 'Grand Traverse County', 'Eaton County',\n",
       "       'Otsego County', 'Kalamazoo County', 'Van Buren County',\n",
       "       'Oceana County', 'Leelanau County', 'Benzie County', 'Bay County',\n",
       "       'Monroe County', 'Saginaw County', nan, 'Hillsdale County',\n",
       "       'Lapeer County', 'Isabella County', 'Calhoun County',\n",
       "       'St. Clair County', 'Missaukee County', 'Iosco County',\n",
       "       'Berrien County', 'Newaygo County', 'Gladwin County',\n",
       "       'Clinton County', 'Livingston County', 'Barry County',\n",
       "       'Emmet County', 'Alger County', 'Iron County', 'Antrim County',\n",
       "       'Wexford County', 'St. Joseph County', 'Lenawee County',\n",
       "       'Gratiot County', 'Clare County', 'Tuscola County',\n",
       "       'Allegan County', 'Jackson County', 'Arenac County',\n",
       "       'Ionia County', 'Crawford County', 'Marquette County',\n",
       "       'Montcalm County', 'Roscommon County', 'Sanilac County',\n",
       "       'Osceola County', 'Menominee County', 'Chippewa County',\n",
       "       'Keweenaw County', 'Delta County', 'Mason County', 'Huron County',\n",
       "       'Alpena County', 'Ogemaw County', 'Charlevoix County',\n",
       "       'Kalkaska County', 'Cheboygan County', 'Gogebic County',\n",
       "       'Presque Isle County', 'Branch County', 'Luce County',\n",
       "       'Schoolcraft County', 'Houghton County', 'Manistee County',\n",
       "       'Dickinson County', 'Montmorency County', 'Oscoda County',\n",
       "       'Alcona County', 'Baraga County'], dtype=object)"
      ]
     },
     "execution_count": 16,
     "metadata": {},
     "output_type": "execute_result"
    }
   ],
   "source": [
    "data['county_name'].unique()"
   ]
  },
  {
   "cell_type": "markdown",
   "id": "5abf193f-318b-40ed-be6e-1102e303c40a",
   "metadata": {},
   "source": [
    "### Get a count of the unique values of a column"
   ]
  },
  {
   "cell_type": "code",
   "execution_count": 17,
   "id": "74e3a09c-2213-4dbd-b35e-80eaa5fc89c1",
   "metadata": {},
   "outputs": [
    {
     "data": {
      "text/plain": [
       "81"
      ]
     },
     "execution_count": 17,
     "metadata": {},
     "output_type": "execute_result"
    }
   ],
   "source": [
    "len(data['county_name'].unique())"
   ]
  },
  {
   "cell_type": "markdown",
   "id": "49f72449-39cf-456b-a5fc-7c1bbb29410e",
   "metadata": {},
   "source": [
    "### Index into a column and get the first four rows"
   ]
  },
  {
   "cell_type": "code",
   "execution_count": 18,
   "id": "75d19c75-1c15-4bf9-bad3-c313237a1c4e",
   "metadata": {},
   "outputs": [
    {
     "data": {
      "text/plain": [
       "0    Preapproval was not requested\n",
       "1                   Not applicable\n",
       "2                   Not applicable\n",
       "3    Preapproval was not requested\n",
       "Name: preapproval_name, dtype: object"
      ]
     },
     "execution_count": 18,
     "metadata": {},
     "output_type": "execute_result"
    }
   ],
   "source": [
    "data['preapproval_name'].iloc[0:4]"
   ]
  },
  {
   "cell_type": "markdown",
   "id": "c6088acd-b3b8-4295-8b36-3152b6abe98c",
   "metadata": {},
   "source": [
    "### Obtain binary values"
   ]
  },
  {
   "cell_type": "code",
   "execution_count": 19,
   "id": "463ff82b-c60a-4a8a-9808-0977c2468d52",
   "metadata": {},
   "outputs": [
    {
     "data": {
      "text/plain": [
       "0     True\n",
       "1    False\n",
       "2    False\n",
       "3     True\n",
       "Name: preapproval_name, dtype: bool"
      ]
     },
     "execution_count": 19,
     "metadata": {},
     "output_type": "execute_result"
    }
   ],
   "source": [
    "data['preapproval_name'].iloc[0:4] == \"Preapproval was not requested\""
   ]
  },
  {
   "cell_type": "markdown",
   "id": "52e196de-0ad5-4cd2-95e9-aa7eba6e8dca",
   "metadata": {},
   "source": [
    "---\n",
    "All done. We will continue with more tricks in part II."
   ]
  }
 ],
 "metadata": {
  "kernelspec": {
   "display_name": "bayes",
   "language": "python",
   "name": "bayes"
  },
  "language_info": {
   "codemirror_mode": {
    "name": "ipython",
    "version": 3
   },
   "file_extension": ".py",
   "mimetype": "text/x-python",
   "name": "python",
   "nbconvert_exporter": "python",
   "pygments_lexer": "ipython3",
   "version": "3.10.5"
  }
 },
 "nbformat": 4,
 "nbformat_minor": 5
}
