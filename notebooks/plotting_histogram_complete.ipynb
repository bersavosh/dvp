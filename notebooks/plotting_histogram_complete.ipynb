{
 "cells": [
  {
   "cell_type": "markdown",
   "id": "10da2626-55f9-47b1-b34b-0835749a6a77",
   "metadata": {},
   "source": [
    "# Plotting a histogram with matplotlib"
   ]
  },
  {
   "cell_type": "code",
   "execution_count": 1,
   "id": "6f9db05e-b90e-41fc-ac1d-64eeeedb0184",
   "metadata": {},
   "outputs": [],
   "source": [
    "import numpy as np\n",
    "import pandas as pd\n",
    "import matplotlib.pyplot as plt\n",
    "import matplotlib.ticker as mticker\n",
    "\n",
    "from matplotlib import rc\n",
    "rc('font',**{'family':'sans-serif','sans-serif':['Helvetica']})\n",
    "rc('text', usetex=False)\n",
    "rc('font', family='serif')"
   ]
  },
  {
   "cell_type": "markdown",
   "id": "c70518d7-2411-4f67-850e-9fc4611e925f",
   "metadata": {},
   "source": [
    "We will work with the same mortgage data we have been working with in the pandas tutorials."
   ]
  },
  {
   "cell_type": "code",
   "execution_count": 2,
   "id": "aff68845-ed09-46df-a5c4-2da0d127b89e",
   "metadata": {},
   "outputs": [
    {
     "data": {
      "text/html": [
       "<div>\n",
       "<style scoped>\n",
       "    .dataframe tbody tr th:only-of-type {\n",
       "        vertical-align: middle;\n",
       "    }\n",
       "\n",
       "    .dataframe tbody tr th {\n",
       "        vertical-align: top;\n",
       "    }\n",
       "\n",
       "    .dataframe thead th {\n",
       "        text-align: right;\n",
       "    }\n",
       "</style>\n",
       "<table border=\"1\" class=\"dataframe\">\n",
       "  <thead>\n",
       "    <tr style=\"text-align: right;\">\n",
       "      <th></th>\n",
       "      <th>action_taken</th>\n",
       "      <th>action_taken_name</th>\n",
       "      <th>agency_code</th>\n",
       "      <th>agency_abbr</th>\n",
       "      <th>agency_name</th>\n",
       "      <th>applicant_ethnicity</th>\n",
       "      <th>applicant_ethnicity_name</th>\n",
       "      <th>applicant_income_000s</th>\n",
       "      <th>applicant_race_1</th>\n",
       "      <th>applicant_race_name_1</th>\n",
       "      <th>...</th>\n",
       "      <th>property_type_name</th>\n",
       "      <th>purchaser_type</th>\n",
       "      <th>purchaser_type_name</th>\n",
       "      <th>hud_median_family_income</th>\n",
       "      <th>loan_amount_000s</th>\n",
       "      <th>number_of_1_to_4_family_units</th>\n",
       "      <th>number_of_owner_occupied_units</th>\n",
       "      <th>minority_population</th>\n",
       "      <th>population</th>\n",
       "      <th>tract_to_msamd_income</th>\n",
       "    </tr>\n",
       "  </thead>\n",
       "  <tbody>\n",
       "    <tr>\n",
       "      <th>0</th>\n",
       "      <td>1</td>\n",
       "      <td>Loan originated</td>\n",
       "      <td>2</td>\n",
       "      <td>FRS</td>\n",
       "      <td>Federal Reserve System</td>\n",
       "      <td>3</td>\n",
       "      <td>Information not provided by applicant in mail,...</td>\n",
       "      <td>36.0</td>\n",
       "      <td>6</td>\n",
       "      <td>Information not provided by applicant in mail,...</td>\n",
       "      <td>...</td>\n",
       "      <td>One-to-four family dwelling (other than manufa...</td>\n",
       "      <td>2</td>\n",
       "      <td>Ginnie Mae (GNMA)</td>\n",
       "      <td>79600.0</td>\n",
       "      <td>85</td>\n",
       "      <td>671.0</td>\n",
       "      <td>541.0</td>\n",
       "      <td>17.190001</td>\n",
       "      <td>1664.0</td>\n",
       "      <td>78.669998</td>\n",
       "    </tr>\n",
       "    <tr>\n",
       "      <th>1</th>\n",
       "      <td>1</td>\n",
       "      <td>Loan originated</td>\n",
       "      <td>5</td>\n",
       "      <td>NCUA</td>\n",
       "      <td>National Credit Union Administration</td>\n",
       "      <td>2</td>\n",
       "      <td>Not Hispanic or Latino</td>\n",
       "      <td>10.0</td>\n",
       "      <td>5</td>\n",
       "      <td>White</td>\n",
       "      <td>...</td>\n",
       "      <td>One-to-four family dwelling (other than manufa...</td>\n",
       "      <td>0</td>\n",
       "      <td>Loan was not originated or was not sold in cal...</td>\n",
       "      <td>88300.0</td>\n",
       "      <td>22</td>\n",
       "      <td>1402.0</td>\n",
       "      <td>1305.0</td>\n",
       "      <td>6.630000</td>\n",
       "      <td>3726.0</td>\n",
       "      <td>105.410004</td>\n",
       "    </tr>\n",
       "    <tr>\n",
       "      <th>2</th>\n",
       "      <td>4</td>\n",
       "      <td>Application withdrawn by applicant</td>\n",
       "      <td>9</td>\n",
       "      <td>CFPB</td>\n",
       "      <td>Consumer Financial Protection Bureau</td>\n",
       "      <td>1</td>\n",
       "      <td>Hispanic or Latino</td>\n",
       "      <td>28.0</td>\n",
       "      <td>5</td>\n",
       "      <td>White</td>\n",
       "      <td>...</td>\n",
       "      <td>One-to-four family dwelling (other than manufa...</td>\n",
       "      <td>0</td>\n",
       "      <td>Loan was not originated or was not sold in cal...</td>\n",
       "      <td>67000.0</td>\n",
       "      <td>119</td>\n",
       "      <td>1819.0</td>\n",
       "      <td>1542.0</td>\n",
       "      <td>24.240000</td>\n",
       "      <td>6979.0</td>\n",
       "      <td>89.099998</td>\n",
       "    </tr>\n",
       "    <tr>\n",
       "      <th>3</th>\n",
       "      <td>3</td>\n",
       "      <td>Application denied by financial institution</td>\n",
       "      <td>7</td>\n",
       "      <td>HUD</td>\n",
       "      <td>Department of Housing and Urban Development</td>\n",
       "      <td>2</td>\n",
       "      <td>Not Hispanic or Latino</td>\n",
       "      <td>21.0</td>\n",
       "      <td>5</td>\n",
       "      <td>White</td>\n",
       "      <td>...</td>\n",
       "      <td>One-to-four family dwelling (other than manufa...</td>\n",
       "      <td>0</td>\n",
       "      <td>Loan was not originated or was not sold in cal...</td>\n",
       "      <td>53700.0</td>\n",
       "      <td>39</td>\n",
       "      <td>1239.0</td>\n",
       "      <td>922.0</td>\n",
       "      <td>24.930000</td>\n",
       "      <td>2896.0</td>\n",
       "      <td>80.000000</td>\n",
       "    </tr>\n",
       "    <tr>\n",
       "      <th>4</th>\n",
       "      <td>1</td>\n",
       "      <td>Loan originated</td>\n",
       "      <td>2</td>\n",
       "      <td>FRS</td>\n",
       "      <td>Federal Reserve System</td>\n",
       "      <td>2</td>\n",
       "      <td>Not Hispanic or Latino</td>\n",
       "      <td>87.0</td>\n",
       "      <td>5</td>\n",
       "      <td>White</td>\n",
       "      <td>...</td>\n",
       "      <td>One-to-four family dwelling (other than manufa...</td>\n",
       "      <td>3</td>\n",
       "      <td>Freddie Mac (FHLMC)</td>\n",
       "      <td>67000.0</td>\n",
       "      <td>195</td>\n",
       "      <td>2908.0</td>\n",
       "      <td>2537.0</td>\n",
       "      <td>5.540000</td>\n",
       "      <td>8083.0</td>\n",
       "      <td>123.519997</td>\n",
       "    </tr>\n",
       "  </tbody>\n",
       "</table>\n",
       "<p>5 rows × 44 columns</p>\n",
       "</div>"
      ],
      "text/plain": [
       "   action_taken                            action_taken_name  agency_code  \\\n",
       "0             1                              Loan originated            2   \n",
       "1             1                              Loan originated            5   \n",
       "2             4           Application withdrawn by applicant            9   \n",
       "3             3  Application denied by financial institution            7   \n",
       "4             1                              Loan originated            2   \n",
       "\n",
       "  agency_abbr                                  agency_name  \\\n",
       "0         FRS                       Federal Reserve System   \n",
       "1        NCUA         National Credit Union Administration   \n",
       "2        CFPB         Consumer Financial Protection Bureau   \n",
       "3         HUD  Department of Housing and Urban Development   \n",
       "4         FRS                       Federal Reserve System   \n",
       "\n",
       "   applicant_ethnicity                           applicant_ethnicity_name  \\\n",
       "0                    3  Information not provided by applicant in mail,...   \n",
       "1                    2                             Not Hispanic or Latino   \n",
       "2                    1                                 Hispanic or Latino   \n",
       "3                    2                             Not Hispanic or Latino   \n",
       "4                    2                             Not Hispanic or Latino   \n",
       "\n",
       "   applicant_income_000s  applicant_race_1  \\\n",
       "0                   36.0                 6   \n",
       "1                   10.0                 5   \n",
       "2                   28.0                 5   \n",
       "3                   21.0                 5   \n",
       "4                   87.0                 5   \n",
       "\n",
       "                               applicant_race_name_1  ...  \\\n",
       "0  Information not provided by applicant in mail,...  ...   \n",
       "1                                              White  ...   \n",
       "2                                              White  ...   \n",
       "3                                              White  ...   \n",
       "4                                              White  ...   \n",
       "\n",
       "                                  property_type_name purchaser_type  \\\n",
       "0  One-to-four family dwelling (other than manufa...              2   \n",
       "1  One-to-four family dwelling (other than manufa...              0   \n",
       "2  One-to-four family dwelling (other than manufa...              0   \n",
       "3  One-to-four family dwelling (other than manufa...              0   \n",
       "4  One-to-four family dwelling (other than manufa...              3   \n",
       "\n",
       "                                 purchaser_type_name  \\\n",
       "0                                  Ginnie Mae (GNMA)   \n",
       "1  Loan was not originated or was not sold in cal...   \n",
       "2  Loan was not originated or was not sold in cal...   \n",
       "3  Loan was not originated or was not sold in cal...   \n",
       "4                                Freddie Mac (FHLMC)   \n",
       "\n",
       "   hud_median_family_income loan_amount_000s  number_of_1_to_4_family_units  \\\n",
       "0                   79600.0               85                          671.0   \n",
       "1                   88300.0               22                         1402.0   \n",
       "2                   67000.0              119                         1819.0   \n",
       "3                   53700.0               39                         1239.0   \n",
       "4                   67000.0              195                         2908.0   \n",
       "\n",
       "  number_of_owner_occupied_units  minority_population population  \\\n",
       "0                          541.0            17.190001     1664.0   \n",
       "1                         1305.0             6.630000     3726.0   \n",
       "2                         1542.0            24.240000     6979.0   \n",
       "3                          922.0            24.930000     2896.0   \n",
       "4                         2537.0             5.540000     8083.0   \n",
       "\n",
       "   tract_to_msamd_income  \n",
       "0              78.669998  \n",
       "1             105.410004  \n",
       "2              89.099998  \n",
       "3              80.000000  \n",
       "4             123.519997  \n",
       "\n",
       "[5 rows x 44 columns]"
      ]
     },
     "execution_count": 2,
     "metadata": {},
     "output_type": "execute_result"
    }
   ],
   "source": [
    "data = pd.read_csv('../data/loan_data_subset.csv')\n",
    "data.head()"
   ]
  },
  {
   "cell_type": "markdown",
   "id": "1de006a0-5ab9-48c9-acf9-0731b2c1d8e9",
   "metadata": {},
   "source": [
    "#### Let's make a histogram of the loan amounts `loan_amount_000s`"
   ]
  },
  {
   "cell_type": "code",
   "execution_count": 3,
   "id": "ef617ab4-3f43-4f7c-842c-df001be429a3",
   "metadata": {},
   "outputs": [],
   "source": [
    "loan_1000usd = data['loan_amount_000s']"
   ]
  },
  {
   "cell_type": "code",
   "execution_count": 4,
   "id": "2e82b0e3-6ec6-40f5-aff3-2eb004100975",
   "metadata": {},
   "outputs": [
    {
     "data": {
      "image/png": "[encoded data removed]",
      "text/plain": [
       "<Figure size 576x432 with 1 Axes>"
      ]
     },
     "metadata": {
      "needs_background": "light"
     },
     "output_type": "display_data"
    }
   ],
   "source": [
    "fig = plt.figure(figsize=(8,6))\n",
    "ax = fig.add_subplot(1,1,1)\n",
    "ax.hist(loan_1000usd);"
   ]
  },
  {
   "cell_type": "markdown",
   "id": "b489e447-f767-4783-98df-564c047900cc",
   "metadata": {},
   "source": [
    "Ok, this looks bad... how can we improve it?\n",
    "\n",
    "### y-axis in log?"
   ]
  },
  {
   "cell_type": "code",
   "execution_count": 5,
   "id": "5b4d0a03-82a2-4888-862b-6c1006bb3595",
   "metadata": {},
   "outputs": [
    {
     "data": {
      "image/png": "[encoded data removed]",
      "text/plain": [
       "<Figure size 576x432 with 1 Axes>"
      ]
     },
     "metadata": {
      "needs_background": "light"
     },
     "output_type": "display_data"
    }
   ],
   "source": [
    "fig = plt.figure(figsize=(8,6))\n",
    "ax = fig.add_subplot(1,1,1)\n",
    "ax.hist(loan_1000usd);\n",
    "ax.set_yscale('log')"
   ]
  },
  {
   "cell_type": "markdown",
   "id": "28404712-f780-4ca3-ac78-b5c20e840700",
   "metadata": {},
   "source": [
    "ahh, annoying outliers...\n",
    "\n",
    "### Rebin? which method? \n",
    "\n",
    "We can try `fd` which is robust to outliers "
   ]
  },
  {
   "cell_type": "code",
   "execution_count": 6,
   "id": "2c238775-bee5-4ea9-90b5-fc65218a3941",
   "metadata": {},
   "outputs": [
    {
     "data": {
      "image/png": "[encoded data removed]",
      "text/plain": [
       "<Figure size 576x432 with 1 Axes>"
      ]
     },
     "metadata": {
      "needs_background": "light"
     },
     "output_type": "display_data"
    }
   ],
   "source": [
    "fig = plt.figure(figsize=(8,6))\n",
    "ax = fig.add_subplot(1,1,1)\n",
    "ax.hist(loan_1000usd, bins='fd')\n",
    "ax.set_yscale('log')"
   ]
  },
  {
   "cell_type": "markdown",
   "id": "c3b6ccb8-f558-46df-99c0-79ef806e5f6c",
   "metadata": {},
   "source": [
    "better, but hard to see, what else?\n",
    "\n",
    "### x-axis in log?"
   ]
  },
  {
   "cell_type": "code",
   "execution_count": 7,
   "id": "24afc2b1-9fb2-4be0-b49a-22f4a0f567b4",
   "metadata": {},
   "outputs": [
    {
     "data": {
      "image/png": "[encoded data removed]",
      "text/plain": [
       "<Figure size 576x432 with 1 Axes>"
      ]
     },
     "metadata": {
      "needs_background": "light"
     },
     "output_type": "display_data"
    }
   ],
   "source": [
    "fig = plt.figure(figsize=(8,6))\n",
    "ax = fig.add_subplot(1,1,1)\n",
    "ax.hist(loan_1000usd, bins='fd')\n",
    "ax.set_yscale('log')\n",
    "ax.set_xscale('log')"
   ]
  },
  {
   "cell_type": "markdown",
   "id": "ede8d0f3-fefe-4ff8-8dcc-417a1b28cba7",
   "metadata": {},
   "source": [
    "What went wrong?\n",
    "\n",
    "We binned (with constant bin size) in linear space, but visualized in log-space. How can we fix it?\n",
    "\n",
    "### histogram of $\\log_{10}$ of `loan_amount_000s`?\n",
    "(and removing the log-scaling of both axes)"
   ]
  },
  {
   "cell_type": "code",
   "execution_count": 8,
   "id": "5a8a36ee-16c2-468c-af9c-3e79c8f01b1b",
   "metadata": {},
   "outputs": [],
   "source": [
    "log_loan_1000usd = np.log10(data['loan_amount_000s'])"
   ]
  },
  {
   "cell_type": "code",
   "execution_count": 9,
   "id": "f9f80178-8012-472d-85ec-2cc31d3cdbeb",
   "metadata": {},
   "outputs": [
    {
     "data": {
      "image/png": "[encoded data removed]",
      "text/plain": [
       "<Figure size 576x432 with 1 Axes>"
      ]
     },
     "metadata": {
      "needs_background": "light"
     },
     "output_type": "display_data"
    }
   ],
   "source": [
    "fig = plt.figure(figsize=(8,6))\n",
    "ax = fig.add_subplot(1,1,1)\n",
    "ax.hist(log_loan_1000usd, bins='fd');"
   ]
  },
  {
   "cell_type": "markdown",
   "id": "ca479b3d-9da1-47ca-8fa4-0ec99d0ab556",
   "metadata": {},
   "source": [
    "Much better! **However** we have a big issue now: the values of the x-axis are difficult to interpret for a general audience (i.e., not easy to quickly think what loan amount a log value of 1.5 corresponds to).\n",
    "\n",
    "What should we do?\n",
    "\n",
    "Well, we can it multiple ways:\n",
    "- The bad way: replace the tick labels by what those numbers correspond in exponential of log (linear) space. This is bad, as while the **ticks** will appear linearly spaced and have linear values, they are in face logarithmic, so your values will look something like 10, 31.62, 100, 316.23, etc.\n",
    "\n",
    "- The painful way: remove all ticks and replace them manually with correct ticks.\n",
    "\n",
    "- The easy way: calculate bins and bin edges in log space, but use their exponential for creating the histogram.\n",
    "\n",
    "### histogram of loans in log-space"
   ]
  },
  {
   "cell_type": "code",
   "execution_count": 10,
   "id": "4f569e44-4a84-426e-988e-f35a3488b193",
   "metadata": {},
   "outputs": [
    {
     "data": {
      "image/png": "[encoded data removed]",
      "text/plain": [
       "<Figure size 576x432 with 1 Axes>"
      ]
     },
     "metadata": {
      "needs_background": "light"
     },
     "output_type": "display_data"
    }
   ],
   "source": [
    "fig = plt.figure(figsize=(8,6))\n",
    "ax = fig.add_subplot(1,1,1)\n",
    "\n",
    "# Numpy histogram command only creates bins and bin values, not anything visual\n",
    "_, log_bin_edges = np.histogram(log_loan_1000usd,bins='fd')\n",
    "\n",
    "ax.hist(loan_1000usd,bins=10**log_bin_edges);\n",
    "ax.set_xscale('log')"
   ]
  },
  {
   "cell_type": "markdown",
   "id": "ffeb5be0-6de7-41dd-b0f9-467bf22eb0c7",
   "metadata": {},
   "source": [
    "That's better. However, again, depending on the audience, scientific notation can be hard to see or interpret, let's replace them with plain numbers (also let's apply other cosmetic stuff)."
   ]
  },
  {
   "cell_type": "markdown",
   "id": "ab904181-dc6d-4ca5-a3d3-f4ee86be7572",
   "metadata": {},
   "source": [
    "### Cosmetics"
   ]
  },
  {
   "cell_type": "code",
   "execution_count": 11,
   "id": "959b07b4-55e5-469d-b7a8-1e4b8282e36b",
   "metadata": {},
   "outputs": [
    {
     "data": {
      "image/png": "[encoded data removed]",
      "text/plain": [
       "<Figure size 576x432 with 1 Axes>"
      ]
     },
     "metadata": {
      "needs_background": "light"
     },
     "output_type": "display_data"
    }
   ],
   "source": [
    "fig = plt.figure(figsize=(8,6))\n",
    "ax = fig.add_subplot(1,1,1)\n",
    "\n",
    "# Numpy histogram command only creates bins and bin values, not anything visual\n",
    "_, log_bin_edges = np.histogram(log_loan_1000usd,bins='fd')\n",
    "\n",
    "ax.hist(loan_1000usd,bins=10**log_bin_edges,color='m',alpha=0.6,edgecolor='b');\n",
    "ax.set_xscale('log')\n",
    "ax.set_xlabel('Loan amount (in 1000$ USD)',fontsize=16)\n",
    "ax.set_ylabel('Number of loans',fontsize=16)\n",
    "\n",
    "ax.xaxis.set_major_formatter(mticker.ScalarFormatter())\n",
    "ax.minorticks_on()\n",
    "ax.tick_params(axis='both', which='major', labelsize=16)\n",
    "ax.tick_params(axis='both', which='major', length=9)\n",
    "ax.tick_params(axis='both', which='minor', length=4.5)\n",
    "ax.tick_params(axis='both', which='both',direction='in',right=True,top=True)"
   ]
  }
 ],
 "metadata": {
  "kernelspec": {
   "display_name": "bayes",
   "language": "python",
   "name": "bayes"
  },
  "language_info": {
   "codemirror_mode": {
    "name": "ipython",
    "version": 3
   },
   "file_extension": ".py",
   "mimetype": "text/x-python",
   "name": "python",
   "nbconvert_exporter": "python",
   "pygments_lexer": "ipython3",
   "version": "3.10.5"
  }
 },
 "nbformat": 4,
 "nbformat_minor": 5
}
