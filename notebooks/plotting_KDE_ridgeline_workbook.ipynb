{
 "cells": [
  {
   "cell_type": "markdown",
   "id": "10da2626-55f9-47b1-b34b-0835749a6a77",
   "metadata": {},
   "source": [
    "# Plotting KDEs and Ridgelines with matplotlib"
   ]
  },
  {
   "cell_type": "code",
   "execution_count": 1,
   "id": "6f9db05e-b90e-41fc-ac1d-64eeeedb0184",
   "metadata": {},
   "outputs": [],
   "source": [
    "import numpy as np\n",
    "import pandas as pd\n",
    "import matplotlib.pyplot as plt\n",
    "import matplotlib.ticker as mticker\n",
    "from KDEpy import FFTKDE\n",
    "import joypy\n",
    "\n",
    "from matplotlib import rc\n",
    "rc('font',**{'family':'sans-serif','sans-serif':['Helvetica']})\n",
    "rc('text', usetex=False)\n",
    "rc('font', family='serif')"
   ]
  },
  {
   "cell_type": "markdown",
   "id": "c70518d7-2411-4f67-850e-9fc4611e925f",
   "metadata": {},
   "source": [
    "We will work with a data based on a study of perception of probability:\n",
    "\n",
    "Each row represents a response to the question: \"*What probability percentage would you assign to the phrase [...]?*\"\n",
    "\n",
    "The study was done by CIA on perception of probabilistic phrases. For more information, see the following references:\n",
    "- [Critical Thinking For Strategic Intelligence](https://books.google.com.au/books?id=_X0FHYpHDzoC)\n",
    "- [Github repository by Zonination](https://github.com/zonination/perceptions)\n",
    "- [Recreation by Yan Holtz on Data2Viz](https://www.data-to-viz.com/story/OneNumOneCatSeveralObs.html)"
   ]
  },
  {
   "cell_type": "code",
   "execution_count": 2,
   "id": "aff68845-ed09-46df-a5c4-2da0d127b89e",
   "metadata": {},
   "outputs": [
    {
     "data": {
      "text/html": [
       "<div>\n",
       "<style scoped>\n",
       "    .dataframe tbody tr th:only-of-type {\n",
       "        vertical-align: middle;\n",
       "    }\n",
       "\n",
       "    .dataframe tbody tr th {\n",
       "        vertical-align: top;\n",
       "    }\n",
       "\n",
       "    .dataframe thead th {\n",
       "        text-align: right;\n",
       "    }\n",
       "</style>\n",
       "<table border=\"1\" class=\"dataframe\">\n",
       "  <thead>\n",
       "    <tr style=\"text-align: right;\">\n",
       "      <th></th>\n",
       "      <th>Almost Certainly</th>\n",
       "      <th>Highly Likely</th>\n",
       "      <th>Very Good Chance</th>\n",
       "      <th>Probable</th>\n",
       "      <th>Likely</th>\n",
       "      <th>Probably</th>\n",
       "      <th>We Believe</th>\n",
       "      <th>Better Than Even</th>\n",
       "      <th>About Even</th>\n",
       "      <th>We Doubt</th>\n",
       "      <th>Improbable</th>\n",
       "      <th>Unlikely</th>\n",
       "      <th>Probably Not</th>\n",
       "      <th>Little Chance</th>\n",
       "      <th>Almost No Chance</th>\n",
       "      <th>Highly Unlikely</th>\n",
       "      <th>Chances Are Slight</th>\n",
       "    </tr>\n",
       "  </thead>\n",
       "  <tbody>\n",
       "    <tr>\n",
       "      <th>0</th>\n",
       "      <td>95.0</td>\n",
       "      <td>80</td>\n",
       "      <td>85</td>\n",
       "      <td>75</td>\n",
       "      <td>66</td>\n",
       "      <td>75</td>\n",
       "      <td>66</td>\n",
       "      <td>55.0</td>\n",
       "      <td>50</td>\n",
       "      <td>40</td>\n",
       "      <td>20.0</td>\n",
       "      <td>30</td>\n",
       "      <td>15.0</td>\n",
       "      <td>20</td>\n",
       "      <td>5.0</td>\n",
       "      <td>25</td>\n",
       "      <td>25</td>\n",
       "    </tr>\n",
       "    <tr>\n",
       "      <th>1</th>\n",
       "      <td>95.0</td>\n",
       "      <td>75</td>\n",
       "      <td>75</td>\n",
       "      <td>51</td>\n",
       "      <td>75</td>\n",
       "      <td>51</td>\n",
       "      <td>51</td>\n",
       "      <td>51.0</td>\n",
       "      <td>50</td>\n",
       "      <td>20</td>\n",
       "      <td>49.0</td>\n",
       "      <td>25</td>\n",
       "      <td>49.0</td>\n",
       "      <td>5</td>\n",
       "      <td>5.0</td>\n",
       "      <td>10</td>\n",
       "      <td>5</td>\n",
       "    </tr>\n",
       "    <tr>\n",
       "      <th>2</th>\n",
       "      <td>95.0</td>\n",
       "      <td>85</td>\n",
       "      <td>85</td>\n",
       "      <td>70</td>\n",
       "      <td>75</td>\n",
       "      <td>70</td>\n",
       "      <td>80</td>\n",
       "      <td>60.0</td>\n",
       "      <td>50</td>\n",
       "      <td>30</td>\n",
       "      <td>10.0</td>\n",
       "      <td>25</td>\n",
       "      <td>25.0</td>\n",
       "      <td>20</td>\n",
       "      <td>1.0</td>\n",
       "      <td>5</td>\n",
       "      <td>15</td>\n",
       "    </tr>\n",
       "    <tr>\n",
       "      <th>3</th>\n",
       "      <td>95.0</td>\n",
       "      <td>85</td>\n",
       "      <td>85</td>\n",
       "      <td>70</td>\n",
       "      <td>75</td>\n",
       "      <td>70</td>\n",
       "      <td>80</td>\n",
       "      <td>60.0</td>\n",
       "      <td>50</td>\n",
       "      <td>30</td>\n",
       "      <td>10.0</td>\n",
       "      <td>25</td>\n",
       "      <td>25.0</td>\n",
       "      <td>20</td>\n",
       "      <td>1.0</td>\n",
       "      <td>5</td>\n",
       "      <td>15</td>\n",
       "    </tr>\n",
       "    <tr>\n",
       "      <th>4</th>\n",
       "      <td>98.0</td>\n",
       "      <td>95</td>\n",
       "      <td>80</td>\n",
       "      <td>70</td>\n",
       "      <td>70</td>\n",
       "      <td>75</td>\n",
       "      <td>65</td>\n",
       "      <td>60.0</td>\n",
       "      <td>50</td>\n",
       "      <td>10</td>\n",
       "      <td>50.0</td>\n",
       "      <td>5</td>\n",
       "      <td>20.0</td>\n",
       "      <td>5</td>\n",
       "      <td>1.0</td>\n",
       "      <td>2</td>\n",
       "      <td>10</td>\n",
       "    </tr>\n",
       "  </tbody>\n",
       "</table>\n",
       "</div>"
      ],
      "text/plain": [
       "   Almost Certainly  Highly Likely  Very Good Chance  Probable  Likely  \\\n",
       "0              95.0             80                85        75      66   \n",
       "1              95.0             75                75        51      75   \n",
       "2              95.0             85                85        70      75   \n",
       "3              95.0             85                85        70      75   \n",
       "4              98.0             95                80        70      70   \n",
       "\n",
       "   Probably  We Believe  Better Than Even  About Even  We Doubt  Improbable  \\\n",
       "0        75          66              55.0          50        40        20.0   \n",
       "1        51          51              51.0          50        20        49.0   \n",
       "2        70          80              60.0          50        30        10.0   \n",
       "3        70          80              60.0          50        30        10.0   \n",
       "4        75          65              60.0          50        10        50.0   \n",
       "\n",
       "   Unlikely  Probably Not  Little Chance  Almost No Chance  Highly Unlikely  \\\n",
       "0        30          15.0             20               5.0               25   \n",
       "1        25          49.0              5               5.0               10   \n",
       "2        25          25.0             20               1.0                5   \n",
       "3        25          25.0             20               1.0                5   \n",
       "4         5          20.0              5               1.0                2   \n",
       "\n",
       "   Chances Are Slight  \n",
       "0                  25  \n",
       "1                   5  \n",
       "2                  15  \n",
       "3                  15  \n",
       "4                  10  "
      ]
     },
     "execution_count": 2,
     "metadata": {},
     "output_type": "execute_result"
    }
   ],
   "source": [
    "data = pd.read_csv('../data/perception_of_probability.csv')\n",
    "data.head()"
   ]
  },
  {
   "cell_type": "markdown",
   "id": "f2f6165d-bf4c-4a7d-843d-8893ffbb823e",
   "metadata": {},
   "source": [
    "## Method I - basic and flexible\n",
    "- Extenral KDE estimator\n",
    "- Basic matplotlib\n",
    "\n",
    "This allows using our own KDE method, but requires us to do most parts manually.\n",
    "This is suitable when dataset is large, or very specialized/customized visualization is needed."
   ]
  },
  {
   "cell_type": "code",
   "execution_count": 3,
   "id": "0010fce6-f7b1-4927-841f-5a78653d9398",
   "metadata": {},
   "outputs": [
    {
     "name": "stderr",
     "output_type": "stream",
     "text": [
      "/home/arash/anaconda3/envs/bayes/lib/python3.10/site-packages/KDEpy/bw_selection.py:282: UserWarning: Silverman's rule failed. Too many idential values. Setting bw = 1.0321341385332972\n",
      "  warnings.warn(\n"
     ]
    }
   ],
   "source": [
    "certainly = data['Almost Certainly'].values\n",
    "kde_certainly = FFTKDE(kernel='gaussian', bw='silverman').fit(certainly).evaluate()\n",
    "\n",
    "even = data['About Even'].values\n",
    "kde_even = FFTKDE(kernel='gaussian', bw='silverman').fit(even).evaluate()\n",
    "\n",
    "nochance = data['Almost No Chance'].values\n",
    "kde_nochance = FFTKDE(kernel='gaussian', bw='silverman').fit(nochance).evaluate()"
   ]
  },
  {
   "cell_type": "markdown",
   "id": "fae3f76a-ae61-4526-b635-e4107b99b2f4",
   "metadata": {},
   "source": [
    "Note the failure of the silverman method above, which forced the algorithm to choose a different bandwidth.\n",
    "\n",
    "Now onto plotting:"
   ]
  },
  {
   "cell_type": "code",
   "execution_count": 4,
   "id": "2e82b0e3-6ec6-40f5-aff3-2eb004100975",
   "metadata": {},
   "outputs": [
    {
     "data": {
      "image/png": "[encoded data removed]",
      "text/plain": [
       "<Figure size 720x432 with 1 Axes>"
      ]
     },
     "metadata": {
      "needs_background": "light"
     },
     "output_type": "display_data"
    }
   ],
   "source": [
    "fig = plt.figure(figsize=(10,6))\n",
    "ax = fig.add_subplot(1,1,1)\n",
    "\n"
   ]
  },
  {
   "cell_type": "markdown",
   "id": "a939f9a4-b5c0-4e74-ae60-18ec93e54f64",
   "metadata": {},
   "source": [
    "We can improve the aesthetics now:"
   ]
  },
  {
   "cell_type": "code",
   "execution_count": 5,
   "id": "7cd19632-3290-40c6-9a74-10b6bb0c6654",
   "metadata": {},
   "outputs": [
    {
     "name": "stderr",
     "output_type": "stream",
     "text": [
      "No artists with labels found to put in legend.  Note that artists whose label start with an underscore are ignored when legend() is called with no argument.\n"
     ]
    },
    {
     "data": {
      "image/png": "[encoded data removed]",
      "text/plain": [
       "<Figure size 720x432 with 1 Axes>"
      ]
     },
     "metadata": {
      "needs_background": "light"
     },
     "output_type": "display_data"
    }
   ],
   "source": [
    "fig = plt.figure(figsize=(10,6))\n",
    "ax = fig.add_subplot(1,1,1)\n",
    "###\n",
    "# Add your code here\n",
    "\n",
    "\n",
    "\n",
    "\n",
    "\n",
    "\n",
    "###\n",
    "ax.legend(fontsize=18)\n",
    "ax.set_xlabel('Assigned Probability (%)',fontsize=16)\n",
    "ax.set_ylabel('Density of responses',fontsize=16)\n",
    "\n",
    "ax.set_xlim(0,100)\n",
    "ax.set_ylim(0)\n",
    "ax.minorticks_on()\n",
    "ax.tick_params(axis='both', which='major', labelsize=16)\n",
    "ax.tick_params(axis='both', which='major', length=9)\n",
    "ax.tick_params(axis='both', which='minor', length=4.5)\n",
    "ax.tick_params(axis='both', which='both',direction='in',right=True,top=True)"
   ]
  },
  {
   "cell_type": "markdown",
   "id": "a4cf3ce5-665f-4ad9-9cab-df87f656d38e",
   "metadata": {},
   "source": [
    "## Method II - Pandas functions\n",
    "\n",
    "Pandas has a set of quick plotting functions relying on matplotlib, we can exploit them to make our plots faster.\n",
    "\n",
    "In the case of KDEs, note that the Pandas implementation (like many other packages) relies on `scipy` for estimation."
   ]
  },
  {
   "cell_type": "markdown",
   "id": "5eb4a70e-47f6-44a1-87f0-d68bc7643f47",
   "metadata": {},
   "source": [
    "Make a KDE plot of the dataframe:"
   ]
  },
  {
   "cell_type": "code",
   "execution_count": 6,
   "id": "10540ab3-870b-44f1-91a0-3dc1e17a1290",
   "metadata": {},
   "outputs": [],
   "source": [
    "# Add here!\n",
    "\n"
   ]
  },
  {
   "cell_type": "markdown",
   "id": "cec29900-bf8d-4556-bf43-3f0804a79a10",
   "metadata": {},
   "source": [
    "Let's create a slice with just the three columns of `Almost Certainly`,`About Even`,`Almost No Chance` and make a kde of those."
   ]
  },
  {
   "cell_type": "code",
   "execution_count": 7,
   "id": "d08e22cb-1c17-4d8f-ab65-5fb475b54b9d",
   "metadata": {},
   "outputs": [],
   "source": [
    "# Add here!\n",
    "\n"
   ]
  },
  {
   "cell_type": "markdown",
   "id": "e62910da-5e2e-4326-a057-a733fba556f6",
   "metadata": {},
   "source": [
    "Alright, so this function, returns a matplotlib `axes`. We can exploit this to tweat this function as we like:"
   ]
  },
  {
   "cell_type": "code",
   "execution_count": 8,
   "id": "e33d0a79-773f-48d8-bbe3-bea055a707e5",
   "metadata": {},
   "outputs": [
    {
     "name": "stderr",
     "output_type": "stream",
     "text": [
      "No artists with labels found to put in legend.  Note that artists whose label start with an underscore are ignored when legend() is called with no argument.\n"
     ]
    },
    {
     "data": {
      "image/png": "[encoded data removed]",
      "text/plain": [
       "<Figure size 720x432 with 1 Axes>"
      ]
     },
     "metadata": {
      "needs_background": "light"
     },
     "output_type": "display_data"
    }
   ],
   "source": [
    "fig = plt.figure(figsize=(10,6))\n",
    "ax = fig.add_subplot(1,1,1)\n",
    "###\n",
    "# Add here!\n",
    "\n",
    "\n",
    "\n",
    "###\n",
    "ax.legend(fontsize=18)\n",
    "ax.set_xlabel('Assigned Probability (%)',fontsize=16)\n",
    "ax.set_ylabel('Density of responses',fontsize=16)\n",
    "\n",
    "ax.set_xlim(0,100)\n",
    "ax.set_ylim(0)\n",
    "ax.minorticks_on()\n",
    "ax.tick_params(axis='both', which='major', labelsize=16)\n",
    "ax.tick_params(axis='both', which='major', length=9)\n",
    "ax.tick_params(axis='both', which='minor', length=4.5)\n",
    "ax.tick_params(axis='both', which='both',direction='in',right=True,top=True)"
   ]
  },
  {
   "cell_type": "markdown",
   "id": "91188be4-119f-48a8-9cb2-01b4d943f742",
   "metadata": {},
   "source": [
    "## Ridgeline\n",
    "\n",
    "As we saw above, the KDE plot for all the columns makes it difficult to interpret. \n",
    "\n",
    "In these cases, a ridgeline plot is helpful. Here we use the package `joypy` to make this plot."
   ]
  },
  {
   "cell_type": "code",
   "execution_count": null,
   "id": "472106a1-465b-4c18-a77a-77c1eee03e18",
   "metadata": {},
   "outputs": [],
   "source": []
  }
 ],
 "metadata": {
  "kernelspec": {
   "display_name": "bayes",
   "language": "python",
   "name": "bayes"
  },
  "language_info": {
   "codemirror_mode": {
    "name": "ipython",
    "version": 3
   },
   "file_extension": ".py",
   "mimetype": "text/x-python",
   "name": "python",
   "nbconvert_exporter": "python",
   "pygments_lexer": "ipython3",
   "version": "3.10.5"
  }
 },
 "nbformat": 4,
 "nbformat_minor": 5
}
